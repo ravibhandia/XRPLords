{
 "cells": [
  {
   "cell_type": "markdown",
   "metadata": {},
   "source": [
    "## Graph Notebook"
   ]
  },
  {
   "cell_type": "markdown",
   "metadata": {},
   "source": [
    "### 1. Motivation"
   ]
  },
  {
   "cell_type": "markdown",
   "metadata": {},
   "source": [
    "\n",
    "Learn about XRP Transaction Behavior|User Analysis\n",
    "\n",
    "Different Signals/Questions to Pursue:\n",
    "\n",
    "1. User segmentation based on transaction behavior\n",
    "\n",
    "\n",
    "> - Clustering accounts based on how often they transact and to which destination nodes in the network do they transact. As a live visualization, if a node suddenly changes groups this could be of interest, indicating either changing account behavior or new partners.\n",
    "\n",
    "> This can begin to segment users and transactions potentially based on maturity. As a live\n",
    "\n",
    "> - Clustering accounts by the fees they are willing to pay and to which nodes (high volume destination/low volume destination)\n",
    "\n",
    "> - Clustering accounts based on the transaction volume and to destination of the transactions\n",
    "\n",
    "2. Classify certain transactions as part of a fake volume circle\n",
    "\n",
    "\n",
    "\n",
    "\n",
    "End product: Identify clusters of users based on different behaviors\n",
    "\n",
    "Tool to use?: Produce a directed graph with costs on edges where each edge represents a transaction."
   ]
  },
  {
   "cell_type": "markdown",
   "metadata": {},
   "source": [
    "## 2. Steps"
   ]
  },
  {
   "cell_type": "markdown",
   "metadata": {},
   "source": [
    "a) Turn index into timestamps\n",
    "Ideas:\n",
    "1. Using the data api, one can get the date a specific ledger index closed. Use (getLedger) post command with input of ledgerindex to retrieve the close_time of the ledger. The close time will be in UNIX.\n",
    "https://xrpl.org/data-api.html#ledger-objects"
   ]
  },
  {
   "cell_type": "code",
   "execution_count": null,
   "metadata": {},
   "outputs": [],
   "source": []
  },
  {
   "cell_type": "markdown",
   "metadata": {},
   "source": [
    "b) Explore buffer for net account balance?"
   ]
  },
  {
   "cell_type": "code",
   "execution_count": null,
   "metadata": {},
   "outputs": [],
   "source": []
  }
 ],
 "metadata": {
  "kernelspec": {
   "display_name": "Python 3",
   "language": "python",
   "name": "python3"
  },
  "language_info": {
   "codemirror_mode": {
    "name": "ipython",
    "version": 3
   },
   "file_extension": ".py",
   "mimetype": "text/x-python",
   "name": "python",
   "nbconvert_exporter": "python",
   "pygments_lexer": "ipython3",
   "version": "3.7.3"
  }
 },
 "nbformat": 4,
 "nbformat_minor": 2
}
