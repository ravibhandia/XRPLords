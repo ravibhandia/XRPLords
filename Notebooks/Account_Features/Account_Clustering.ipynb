{
 "cells": [
  {
   "cell_type": "markdown",
   "metadata": {},
   "source": [
    "# Step 2: Account_Clustering\n",
    "Exploring Data Vizualization and Clustering Approaches of Account Features"
   ]
  },
  {
   "cell_type": "code",
   "execution_count": 1,
   "metadata": {},
   "outputs": [],
   "source": [
    "import numpy as np\n",
    "import pandas as pd\n",
    "import matplotlib.pyplot as plt\n",
    "%matplotlib inline\n",
    "import seaborn as sns; sns.set()\n",
    "from sklearn import preprocessing\n",
    "#from scipy.stats import shapiro\n",
    "from scipy.cluster.hierarchy import dendrogram, linkage \n",
    "from scipy.cluster.hierarchy import fcluster\n",
    "from sklearn.cluster import AgglomerativeClustering\n",
    "from sklearn.decomposition import PCA\n",
    "from sklearn.cluster import KMeans\n",
    "from sklearn import metrics\n",
    "from scipy.spatial.distance import cdist\n",
    "from google.cloud import bigquery\n",
    "from google.oauth2 import service_account"
   ]
  },
  {
   "cell_type": "code",
   "execution_count": 2,
   "metadata": {},
   "outputs": [],
   "source": [
    "df=pd.read_csv('../../Data/test_Account_Features_Data')"
   ]
  },
  {
   "cell_type": "code",
   "execution_count": 3,
   "metadata": {},
   "outputs": [
    {
     "data": {
      "text/html": [
       "<div>\n",
       "<style scoped>\n",
       "    .dataframe tbody tr th:only-of-type {\n",
       "        vertical-align: middle;\n",
       "    }\n",
       "\n",
       "    .dataframe tbody tr th {\n",
       "        vertical-align: top;\n",
       "    }\n",
       "\n",
       "    .dataframe thead th {\n",
       "        text-align: right;\n",
       "    }\n",
       "</style>\n",
       "<table border=\"1\" class=\"dataframe\">\n",
       "  <thead>\n",
       "    <tr style=\"text-align: right;\">\n",
       "      <th></th>\n",
       "      <th>Account Hash</th>\n",
       "      <th>Sum of XRP Received</th>\n",
       "      <th>Sum of XRP Sent</th>\n",
       "      <th>Sum of Fees</th>\n",
       "      <th>Txn Count</th>\n",
       "    </tr>\n",
       "  </thead>\n",
       "  <tbody>\n",
       "    <tr>\n",
       "      <th>0</th>\n",
       "      <td>rGvEQcqMNRKX8aTSdBSVRNko7EUj3bafK5</td>\n",
       "      <td>126141560</td>\n",
       "      <td>106141548</td>\n",
       "      <td>12</td>\n",
       "      <td>2.0</td>\n",
       "    </tr>\n",
       "    <tr>\n",
       "      <th>1</th>\n",
       "      <td>rrnPsa6CofSnkiYKrLm5ufU7y5douZArci</td>\n",
       "      <td>6140577419</td>\n",
       "      <td>6140577407</td>\n",
       "      <td>12</td>\n",
       "      <td>4.0</td>\n",
       "    </tr>\n",
       "    <tr>\n",
       "      <th>2</th>\n",
       "      <td>rnAskd3KAp1JoNwYtCmTrFskcHP2H1rcUP</td>\n",
       "      <td>3000000000</td>\n",
       "      <td>0</td>\n",
       "      <td>0</td>\n",
       "      <td>3.0</td>\n",
       "    </tr>\n",
       "    <tr>\n",
       "      <th>3</th>\n",
       "      <td>r3J1aP6urzpvpgtp6g4QTi4ywMqfqXURQw</td>\n",
       "      <td>0</td>\n",
       "      <td>5224000000</td>\n",
       "      <td>20</td>\n",
       "      <td>2.0</td>\n",
       "    </tr>\n",
       "    <tr>\n",
       "      <th>4</th>\n",
       "      <td>rHxtRRUMVAnPZUyRgXhRSyWZ2MrHx8AvVs</td>\n",
       "      <td>64969233965</td>\n",
       "      <td>96433716800</td>\n",
       "      <td>247130</td>\n",
       "      <td>243.0</td>\n",
       "    </tr>\n",
       "  </tbody>\n",
       "</table>\n",
       "</div>"
      ],
      "text/plain": [
       "                         Account Hash  Sum of XRP Received  Sum of XRP Sent  \\\n",
       "0  rGvEQcqMNRKX8aTSdBSVRNko7EUj3bafK5            126141560        106141548   \n",
       "1  rrnPsa6CofSnkiYKrLm5ufU7y5douZArci           6140577419       6140577407   \n",
       "2  rnAskd3KAp1JoNwYtCmTrFskcHP2H1rcUP           3000000000                0   \n",
       "3  r3J1aP6urzpvpgtp6g4QTi4ywMqfqXURQw                    0       5224000000   \n",
       "4  rHxtRRUMVAnPZUyRgXhRSyWZ2MrHx8AvVs          64969233965      96433716800   \n",
       "\n",
       "   Sum of Fees  Txn Count  \n",
       "0           12        2.0  \n",
       "1           12        4.0  \n",
       "2            0        3.0  \n",
       "3           20        2.0  \n",
       "4       247130      243.0  "
      ]
     },
     "execution_count": 3,
     "metadata": {},
     "output_type": "execute_result"
    }
   ],
   "source": [
    "df.head()"
   ]
  },
  {
   "cell_type": "code",
   "execution_count": 4,
   "metadata": {},
   "outputs": [
    {
     "data": {
      "text/html": [
       "<div>\n",
       "<style scoped>\n",
       "    .dataframe tbody tr th:only-of-type {\n",
       "        vertical-align: middle;\n",
       "    }\n",
       "\n",
       "    .dataframe tbody tr th {\n",
       "        vertical-align: top;\n",
       "    }\n",
       "\n",
       "    .dataframe thead th {\n",
       "        text-align: right;\n",
       "    }\n",
       "</style>\n",
       "<table border=\"1\" class=\"dataframe\">\n",
       "  <thead>\n",
       "    <tr style=\"text-align: right;\">\n",
       "      <th></th>\n",
       "      <th>Sum of XRP Received</th>\n",
       "      <th>Sum of XRP Sent</th>\n",
       "      <th>Sum of Fees</th>\n",
       "      <th>Txn Count</th>\n",
       "    </tr>\n",
       "  </thead>\n",
       "  <tbody>\n",
       "    <tr>\n",
       "      <th>count</th>\n",
       "      <td>4.747800e+04</td>\n",
       "      <td>4.747800e+04</td>\n",
       "      <td>4.747800e+04</td>\n",
       "      <td>47478.000000</td>\n",
       "    </tr>\n",
       "    <tr>\n",
       "      <th>mean</th>\n",
       "      <td>1.865312e+11</td>\n",
       "      <td>1.865312e+11</td>\n",
       "      <td>8.745145e+05</td>\n",
       "      <td>29.790345</td>\n",
       "    </tr>\n",
       "    <tr>\n",
       "      <th>std</th>\n",
       "      <td>6.151254e+12</td>\n",
       "      <td>6.758265e+12</td>\n",
       "      <td>1.170199e+08</td>\n",
       "      <td>1594.313641</td>\n",
       "    </tr>\n",
       "    <tr>\n",
       "      <th>min</th>\n",
       "      <td>0.000000e+00</td>\n",
       "      <td>0.000000e+00</td>\n",
       "      <td>0.000000e+00</td>\n",
       "      <td>1.000000</td>\n",
       "    </tr>\n",
       "    <tr>\n",
       "      <th>25%</th>\n",
       "      <td>3.206544e+06</td>\n",
       "      <td>0.000000e+00</td>\n",
       "      <td>0.000000e+00</td>\n",
       "      <td>1.000000</td>\n",
       "    </tr>\n",
       "    <tr>\n",
       "      <th>50%</th>\n",
       "      <td>4.999800e+08</td>\n",
       "      <td>0.000000e+00</td>\n",
       "      <td>0.000000e+00</td>\n",
       "      <td>1.000000</td>\n",
       "    </tr>\n",
       "    <tr>\n",
       "      <th>75%</th>\n",
       "      <td>3.636879e+09</td>\n",
       "      <td>6.500000e+08</td>\n",
       "      <td>2.000000e+01</td>\n",
       "      <td>3.000000</td>\n",
       "    </tr>\n",
       "    <tr>\n",
       "      <th>max</th>\n",
       "      <td>6.740783e+14</td>\n",
       "      <td>8.020789e+14</td>\n",
       "      <td>2.354639e+10</td>\n",
       "      <td>247552.000000</td>\n",
       "    </tr>\n",
       "  </tbody>\n",
       "</table>\n",
       "</div>"
      ],
      "text/plain": [
       "       Sum of XRP Received  Sum of XRP Sent   Sum of Fees      Txn Count\n",
       "count         4.747800e+04     4.747800e+04  4.747800e+04   47478.000000\n",
       "mean          1.865312e+11     1.865312e+11  8.745145e+05      29.790345\n",
       "std           6.151254e+12     6.758265e+12  1.170199e+08    1594.313641\n",
       "min           0.000000e+00     0.000000e+00  0.000000e+00       1.000000\n",
       "25%           3.206544e+06     0.000000e+00  0.000000e+00       1.000000\n",
       "50%           4.999800e+08     0.000000e+00  0.000000e+00       1.000000\n",
       "75%           3.636879e+09     6.500000e+08  2.000000e+01       3.000000\n",
       "max           6.740783e+14     8.020789e+14  2.354639e+10  247552.000000"
      ]
     },
     "execution_count": 4,
     "metadata": {},
     "output_type": "execute_result"
    }
   ],
   "source": [
    "df.describe()"
   ]
  },
  {
   "cell_type": "code",
   "execution_count": 5,
   "metadata": {},
   "outputs": [
    {
     "name": "stdout",
     "output_type": "stream",
     "text": [
      "<class 'pandas.core.frame.DataFrame'>\n",
      "RangeIndex: 47478 entries, 0 to 47477\n",
      "Data columns (total 5 columns):\n",
      "Account Hash           47478 non-null object\n",
      "Sum of XRP Received    47478 non-null int64\n",
      "Sum of XRP Sent        47478 non-null int64\n",
      "Sum of Fees            47478 non-null int64\n",
      "Txn Count              47478 non-null float64\n",
      "dtypes: float64(1), int64(3), object(1)\n",
      "memory usage: 1.8+ MB\n"
     ]
    }
   ],
   "source": [
    "df.info()"
   ]
  },
  {
   "cell_type": "code",
   "execution_count": 6,
   "metadata": {
    "scrolled": true
   },
   "outputs": [
    {
     "data": {
      "text/plain": [
       "<seaborn.axisgrid.PairGrid at 0x7f2397215320>"
      ]
     },
     "execution_count": 6,
     "metadata": {},
     "output_type": "execute_result"
    },
    {
     "data": {
      "image/png": "[encoded data removed]",
      "text/plain": [
       "<Figure size 720x720 with 20 Axes>"
      ]
     },
     "metadata": {
      "needs_background": "light"
     },
     "output_type": "display_data"
    }
   ],
   "source": [
    "sns.pairplot(df)"
   ]
  },
  {
   "cell_type": "code",
   "execution_count": 10,
   "metadata": {
    "scrolled": false
   },
   "outputs": [
    {
     "name": "stderr",
     "output_type": "stream",
     "text": [
      "/usr/local/lib/python3.5/dist-packages/seaborn/regression.py:546: UserWarning: The `size` paramter has been renamed to `height`; please update your code.\n",
      "  warnings.warn(msg, UserWarning)\n"
     ]
    },
    {
     "data": {
      "text/plain": [
       "<seaborn.axisgrid.FacetGrid at 0x7fc19754de48>"
      ]
     },
     "execution_count": 10,
     "metadata": {},
     "output_type": "execute_result"
    },
    {
     "data": {
      "image/png": "[encoded data removed]",
      "text/plain": [
       "<Figure size 432x432 with 1 Axes>"
      ]
     },
     "metadata": {},
     "output_type": "display_data"
    }
   ],
   "source": [
    "sns.set_style('whitegrid')\n",
    "sns.lmplot('Sum of XRP Received','Sum of XRP Sent',data=df,\n",
    "           palette='coolwarm',size=6,aspect=1,fit_reg=False)"
   ]
  },
  {
   "cell_type": "code",
   "execution_count": 14,
   "metadata": {},
   "outputs": [
    {
     "data": {
      "text/plain": [
       "array([    0.        ,   968.93877551,  1937.87755102,  2906.81632653,\n",
       "        3875.75510204,  4844.69387755,  5813.63265306,  6782.57142857,\n",
       "        7751.51020408,  8720.44897959,  9689.3877551 , 10658.32653061,\n",
       "       11627.26530612, 12596.20408163, 13565.14285714, 14534.08163265,\n",
       "       15503.02040816, 16471.95918367, 17440.89795918, 18409.83673469,\n",
       "       19378.7755102 , 20347.71428571, 21316.65306122, 22285.59183673,\n",
       "       23254.53061224, 24223.46938776, 25192.40816327, 26161.34693878,\n",
       "       27130.28571429, 28099.2244898 , 29068.16326531, 30037.10204082,\n",
       "       31006.04081633, 31974.97959184, 32943.91836735, 33912.85714286,\n",
       "       34881.79591837, 35850.73469388, 36819.67346939, 37788.6122449 ,\n",
       "       38757.55102041, 39726.48979592, 40695.42857143, 41664.36734694,\n",
       "       42633.30612245, 43602.24489796, 44571.18367347, 45540.12244898,\n",
       "       46509.06122449, 47478.        ])"
      ]
     },
     "execution_count": 14,
     "metadata": {},
     "output_type": "execute_result"
    }
   ],
   "source": [
    "np.linspace(0,len(df['Sum of Fees']))"
   ]
  },
  {
   "cell_type": "code",
   "execution_count": 16,
   "metadata": {},
   "outputs": [
    {
     "data": {
      "text/plain": [
       "count    4.747800e+04\n",
       "mean     8.745145e+05\n",
       "std      1.170199e+08\n",
       "min      0.000000e+00\n",
       "25%      0.000000e+00\n",
       "50%      0.000000e+00\n",
       "75%      2.000000e+01\n",
       "max      2.354639e+10\n",
       "Name: Sum of Fees, dtype: float64"
      ]
     },
     "execution_count": 16,
     "metadata": {},
     "output_type": "execute_result"
    }
   ],
   "source": [
    "df['Sum of Fees'].describe()"
   ]
  },
  {
   "cell_type": "code",
   "execution_count": 18,
   "metadata": {},
   "outputs": [],
   "source": [
    "def log_transform_df(dat):\n",
    "    return dat.apply(np.log)"
   ]
  },
  {
   "cell_type": "markdown",
   "metadata": {},
   "source": [
    "Turn sum of Fees in to classes??\n",
    "noFee (==0)\n",
    "smFee (>0 and <=10)\n",
    "mdFee (>10 and <=20)\n",
    "large fee (>20)"
   ]
  },
  {
   "cell_type": "code",
   "execution_count": 17,
   "metadata": {
    "scrolled": true
   },
   "outputs": [
    {
     "data": {
      "text/plain": [
       "<matplotlib.axes._subplots.AxesSubplot at 0x7f238a7619e8>"
      ]
     },
     "execution_count": 17,
     "metadata": {},
     "output_type": "execute_result"
    },
    {
     "data": {
      "image/png": "[encoded data removed]",
      "text/plain": [
       "<Figure size 432x288 with 1 Axes>"
      ]
     },
     "metadata": {
      "needs_background": "light"
     },
     "output_type": "display_data"
    }
   ],
   "source": [
    "sns.distplot(df['Sum of Fees'])"
   ]
  },
  {
   "cell_type": "code",
   "execution_count": null,
   "metadata": {},
   "outputs": [],
   "source": []
  },
  {
   "cell_type": "code",
   "execution_count": 13,
   "metadata": {},
   "outputs": [],
   "source": [
    "kmeans = KMeans(n_clusters=4)"
   ]
  },
  {
   "cell_type": "code",
   "execution_count": 15,
   "metadata": {},
   "outputs": [
    {
     "data": {
      "text/plain": [
       "KMeans(algorithm='auto', copy_x=True, init='k-means++', max_iter=300,\n",
       "       n_clusters=4, n_init=10, n_jobs=None, precompute_distances='auto',\n",
       "       random_state=None, tol=0.0001, verbose=0)"
      ]
     },
     "execution_count": 15,
     "metadata": {},
     "output_type": "execute_result"
    }
   ],
   "source": [
    "kmeans.fit(df.drop('Account Hash',axis=1))"
   ]
  },
  {
   "cell_type": "code",
   "execution_count": 16,
   "metadata": {},
   "outputs": [
    {
     "data": {
      "text/plain": [
       "array([[8.02557284e+10, 6.94070741e+10, 6.53800290e+05, 2.29856071e+01],\n",
       "       [5.65379424e+14, 6.51422199e+14, 3.48316767e+09, 3.93073333e+04],\n",
       "       [1.30993626e+14, 1.43621491e+14, 2.34771517e+06, 2.28138889e+03],\n",
       "       [3.31216426e+14, 3.41010474e+14, 1.00029333e+06, 5.48800000e+04]])"
      ]
     },
     "execution_count": 16,
     "metadata": {},
     "output_type": "execute_result"
    }
   ],
   "source": [
    "kmeans.cluster_centers_"
   ]
  },
  {
   "cell_type": "code",
   "execution_count": null,
   "metadata": {},
   "outputs": [],
   "source": []
  }
 ],
 "metadata": {
  "kernelspec": {
   "display_name": "Python 3",
   "language": "python",
   "name": "python3"
  },
  "language_info": {
   "codemirror_mode": {
    "name": "ipython",
    "version": 3
   },
   "file_extension": ".py",
   "mimetype": "text/x-python",
   "name": "python",
   "nbconvert_exporter": "python",
   "pygments_lexer": "ipython3",
   "version": "3.5.3"
  }
 },
 "nbformat": 4,
 "nbformat_minor": 2
}
