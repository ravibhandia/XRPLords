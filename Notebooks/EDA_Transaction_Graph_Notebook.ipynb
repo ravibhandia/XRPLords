{
 "cells": [
  {
   "cell_type": "markdown",
   "metadata": {},
   "source": [
    "## Graph Notebook"
   ]
  },
  {
   "cell_type": "markdown",
   "metadata": {},
   "source": [
    "\n",
    "### 1. Motivation: Learn about XRP Transaction Behavior|User Analysis\n",
    "\n",
    "#### Different Signals/Questions to Pursue:\n",
    "\n",
    "1. User segmentation based on transaction behavior\n",
    "\n",
    "> Ultimately, the purpose is to find a useful way to begin to group users based on a variety of features. Users of the XRP Ledger are hypothesized to fall into categories such as these: XRP holders, Bitcoin transfer users, banks using for intercurrency exchanges, arbitrage, frontrunning? Succesful clustering may allow the development of optimization algorithms.\n",
    "\n",
    "> We can seek to attempt to group these according to some of the features of transactions that users succeed in making. Careful combination of these features (e.g txn frequency, directionality, txn volume, txn fees paid, destination account, creation account) can be used for the clustering exploration.\n",
    "\n",
    "   > - Clustering accounts based on how often they transact and to which destination nodes in the network do they transact. As a live visualization, if a node suddenly changes groups this could be of interest, indicating either changing account behavior or new partners.\n",
    "\n",
    "\n",
    "   > - Clustering accounts by the fees they are willing to pay and to which nodes (high volume destination/low volume destination)\n",
    "\n",
    "\n",
    "\n",
    "2. Classify certain transactions as part of a fake volume circle\n",
    "\n",
    "\n",
    "\n",
    "\n",
    "##### End product: Identify clusters of users based on different behaviors\n",
    "\n",
    "#### How: Produce a directed graph with costs on edges where each edge represents a transaction."
   ]
  },
  {
   "cell_type": "markdown",
   "metadata": {},
   "source": [
    "## 2. Steps"
   ]
  },
  {
   "cell_type": "markdown",
   "metadata": {},
   "source": [
    "a) Turn ledger index into timestamps\n",
    "\n",
    "Potential Ideas:\n",
    "> 1. Using the data api, one can get the date a specific ledger index closed. Use (getLedger) post command with input of ledgerindex to retrieve the close_time of the ledger. The close time will be in UNIX time.\n",
    "https://xrpl.org/data-api.html#ledger-objects\n",
    "\n",
    "> 2. Potentially find a way to call a date attribute in bigQuery according to notebook called data_api_examples.ipynb"
   ]
  },
  {
   "cell_type": "code",
   "execution_count": 11,
   "metadata": {
    "scrolled": true
   },
   "outputs": [
    {
     "data": {
      "text/plain": [
       "dict_keys(['account_hash', 'close_flags', 'close_time', 'close_time_human', 'close_time_resolution', 'hash', 'ledger_hash', 'ledger_index', 'parent_close_time', 'parent_hash', 'seqNum', 'totalCoins', 'total_coins', 'transaction_hash', 'transactions', 'tx_count'])"
      ]
     },
     "execution_count": 11,
     "metadata": {},
     "output_type": "execute_result"
    }
   ],
   "source": [
    "import requests\n",
    "import json\n",
    "ledgerindex='27705063'\n",
    "urlledger='https://data.ripple.com/v2/ledgers/' + ledgerindex +'?transactions=true&binary=false&expand=true'\n",
    "\n",
    "r=requests.get(urlledger)\n",
    "r.json()['ledger'].keys()"
   ]
  },
  {
   "cell_type": "code",
   "execution_count": 12,
   "metadata": {},
   "outputs": [
    {
     "data": {
      "text/plain": [
       "'2017-Feb-15 21:45:51'"
      ]
     },
     "execution_count": 12,
     "metadata": {},
     "output_type": "execute_result"
    }
   ],
   "source": [
    "r.json()['ledger']['close_time_human']"
   ]
  },
  {
   "cell_type": "code",
   "execution_count": null,
   "metadata": {},
   "outputs": [],
   "source": []
  },
  {
   "cell_type": "markdown",
   "metadata": {},
   "source": [
    "b) Explore buffer for net account balance?"
   ]
  },
  {
   "cell_type": "code",
   "execution_count": null,
   "metadata": {},
   "outputs": [],
   "source": []
  }
 ],
 "metadata": {
  "kernelspec": {
   "display_name": "Python 3",
   "language": "python",
   "name": "python3"
  },
  "language_info": {
   "codemirror_mode": {
    "name": "ipython",
    "version": 3
   },
   "file_extension": ".py",
   "mimetype": "text/x-python",
   "name": "python",
   "nbconvert_exporter": "python",
   "pygments_lexer": "ipython3",
   "version": "3.7.3"
  }
 },
 "nbformat": 4,
 "nbformat_minor": 2
}
