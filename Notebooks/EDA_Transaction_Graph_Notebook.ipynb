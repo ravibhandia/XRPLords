{
 "cells": [
  {
   "cell_type": "markdown",
   "metadata": {},
   "source": [
    "## Graph Notebook"
   ]
  },
  {
   "cell_type": "markdown",
   "metadata": {},
   "source": [
    "\n",
    "### 1. Motivation: Learn about XRP Transaction Behavior|User Analysis\n",
    "\n",
    "#### Different Signals/Questions to Pursue:\n",
    "\n",
    "1. User segmentation based on transaction behavior\n",
    "\n",
    "> Ultimately, the purpose is to find a useful way to begin to group users based on a variety of features. Users of the XRP Ledger are hypothesized to fall into categories such as these: XRP holders, Bitcoin transfer users, banks using for intercurrency exchanges, arbitrage, frontrunning? Succesful clustering may allow the development of optimization algorithms.\n",
    "\n",
    "> We can seek to attempt to group these according to some of the features of transactions that users succeed in making. Careful combination of these features (e.g txn frequency, directionality, txn volume, txn fees paid, destination account, creation account) can be used for the clustering exploration.\n",
    "\n",
    "   > - Clustering accounts based on how often they transact and to which destination nodes in the network do they transact. As a live visualization, if a node suddenly changes groups this could be of interest, indicating either changing account behavior or new partners.\n",
    "\n",
    "\n",
    "   > - Clustering accounts by the fees they are willing to pay and to which nodes (high volume destination/low volume destination)\n",
    "\n",
    "\n",
    "\n",
    "2. Classify certain transactions as part of a fake volume circle\n",
    "\n",
    "\n",
    "\n",
    "\n",
    "##### End product: Identify clusters of users based on different behaviors\n",
    "\n",
    "#### How: Produce a directed graph with costs on edges where each edge represents a transaction."
   ]
  },
  {
   "cell_type": "markdown",
   "metadata": {},
   "source": [
    "## 2. Steps"
   ]
  },
  {
   "cell_type": "markdown",
   "metadata": {},
   "source": [
    "a) Turn ledger index into timestamps\n",
    "\n",
    "Potential Ideas:\n",
    "> 1. Using the data api, one can get the date a specific ledger index closed. Use (getLedger) post command with input of ledgerindex to retrieve the close_time of the ledger. The close time will be in UNIX time.\n",
    "https://xrpl.org/data-api.html#ledger-objects\n",
    "\n",
    "> 2. Potentially find a way to call a date attribute in bigQuery according to notebook called data_api_examples.ipynb"
   ]
  },
  {
   "cell_type": "code",
   "execution_count": 11,
   "metadata": {
    "scrolled": true
   },
   "outputs": [
    {
     "data": {
      "text/plain": [
       "dict_keys(['account_hash', 'close_flags', 'close_time', 'close_time_human', 'close_time_resolution', 'hash', 'ledger_hash', 'ledger_index', 'parent_close_time', 'parent_hash', 'seqNum', 'totalCoins', 'total_coins', 'transaction_hash', 'transactions', 'tx_count'])"
      ]
     },
     "execution_count": 11,
     "metadata": {},
     "output_type": "execute_result"
    }
   ],
   "source": [
    "import requests\n",
    "import json\n",
    "ledgerindex='27705063'\n",
    "urlledger='https://data.ripple.com/v2/ledgers/' + ledgerindex +'?transactions=true&binary=false&expand=true'\n",
    "\n",
    "r=requests.get(urlledger)\n",
    "r.json()['ledger'].keys()"
   ]
  },
  {
   "cell_type": "code",
   "execution_count": 12,
   "metadata": {},
   "outputs": [
    {
     "data": {
      "text/plain": [
       "'2017-Feb-15 21:45:51'"
      ]
     },
     "execution_count": 12,
     "metadata": {},
     "output_type": "execute_result"
    }
   ],
   "source": [
    "r.json()['ledger']['close_time_human']"
   ]
  },
  {
   "cell_type": "code",
   "execution_count": null,
   "metadata": {},
   "outputs": [],
   "source": []
  },
  {
   "cell_type": "markdown",
   "metadata": {},
   "source": [
    "b) Explore buffer for net account balance?"
   ]
  },
  {
   "cell_type": "code",
   "execution_count": 13,
   "metadata": {},
   "outputs": [
    {
     "name": "stdout",
     "output_type": "stream",
     "text": [
      "EDA_Transaction_Graph_Notebook.ipynb\r\n"
     ]
    }
   ],
   "source": [
    "!"
   ]
  },
  {
   "cell_type": "code",
   "execution_count": 18,
   "metadata": {},
   "outputs": [],
   "source": [
    "import pandas as pd\n",
    "import numpy as np\n",
    "\n",
    "df=pd.read_csv(\"../Data/results-txn_timestamped.csv\")"
   ]
  },
  {
   "cell_type": "code",
   "execution_count": 16,
   "metadata": {},
   "outputs": [
    {
     "data": {
      "text/html": [
       "<div>\n",
       "<style scoped>\n",
       "    .dataframe tbody tr th:only-of-type {\n",
       "        vertical-align: middle;\n",
       "    }\n",
       "\n",
       "    .dataframe tbody tr th {\n",
       "        vertical-align: top;\n",
       "    }\n",
       "\n",
       "    .dataframe thead th {\n",
       "        text-align: right;\n",
       "    }\n",
       "</style>\n",
       "<table border=\"1\" class=\"dataframe\">\n",
       "  <thead>\n",
       "    <tr style=\"text-align: right;\">\n",
       "      <th></th>\n",
       "      <th>TimeStamp</th>\n",
       "      <th>Account</th>\n",
       "      <th>Destination</th>\n",
       "      <th>Fee</th>\n",
       "      <th>TxnSignature</th>\n",
       "      <th>AmountXRP</th>\n",
       "      <th>LedgerIndex</th>\n",
       "    </tr>\n",
       "  </thead>\n",
       "  <tbody>\n",
       "    <tr>\n",
       "      <th>0</th>\n",
       "      <td>2019-12-15 00:00:00 UTC</td>\n",
       "      <td>rPsmHDMkheWZvbAkTA8A9bVnUdadPn7XBK</td>\n",
       "      <td>rUMhAy8zECaY9u6ntqTAXFu1t8gixCeHka</td>\n",
       "      <td>10</td>\n",
       "      <td>304502210089A1985CB7AF1F667C61405FB4A609F06DEB...</td>\n",
       "      <td>48560300000</td>\n",
       "      <td>52058308</td>\n",
       "    </tr>\n",
       "    <tr>\n",
       "      <th>1</th>\n",
       "      <td>2019-12-15 00:00:01 UTC</td>\n",
       "      <td>rw2ciyaNshpHe7bCHo4bRWq6pqqynnWKQg</td>\n",
       "      <td>rLNaPoKeeBjZe2qs6x52yVPZpZ8td4dc6w</td>\n",
       "      <td>40</td>\n",
       "      <td>3045022100AEF609203571841221F6D13CD5991EE66AAF...</td>\n",
       "      <td>50000083642</td>\n",
       "      <td>52058309</td>\n",
       "    </tr>\n",
       "    <tr>\n",
       "      <th>2</th>\n",
       "      <td>2019-12-15 00:00:01 UTC</td>\n",
       "      <td>rEvoRfi83Hc5gxqpwRtc9jh7Z4C2hECCWY</td>\n",
       "      <td>rnuPTVikw8HKK4hBGCtnq2J2433VYaZPZQ</td>\n",
       "      <td>12</td>\n",
       "      <td>304402203E8C80A7E4F36EEB754BCA9EF3CB2D5B2BFA08...</td>\n",
       "      <td>999999</td>\n",
       "      <td>52058309</td>\n",
       "    </tr>\n",
       "    <tr>\n",
       "      <th>3</th>\n",
       "      <td>2019-12-15 00:00:10 UTC</td>\n",
       "      <td>ryBANkk28Mj71jRKAkt13U1X9ubztsGWZ</td>\n",
       "      <td>rwU8rAiE2eyEPz3sikfbHuqCuiAtdXqa2v</td>\n",
       "      <td>7707</td>\n",
       "      <td>304402203D711CFEB876FFC22375F0C8C3CC3B1DB8952D...</td>\n",
       "      <td>15728776000</td>\n",
       "      <td>52058310</td>\n",
       "    </tr>\n",
       "    <tr>\n",
       "      <th>4</th>\n",
       "      <td>2019-12-15 00:00:11 UTC</td>\n",
       "      <td>rLNaPoKeeBjZe2qs6x52yVPZpZ8td4dc6w</td>\n",
       "      <td>rwpMvfxoodXggJ1g4qv6MWAPQqWDwQyHUW</td>\n",
       "      <td>40</td>\n",
       "      <td>3045022100F4BEBE96EF6610512BD07D789C1E2629342F...</td>\n",
       "      <td>1162250116</td>\n",
       "      <td>52058311</td>\n",
       "    </tr>\n",
       "  </tbody>\n",
       "</table>\n",
       "</div>"
      ],
      "text/plain": [
       "                 TimeStamp                             Account  \\\n",
       "0  2019-12-15 00:00:00 UTC  rPsmHDMkheWZvbAkTA8A9bVnUdadPn7XBK   \n",
       "1  2019-12-15 00:00:01 UTC  rw2ciyaNshpHe7bCHo4bRWq6pqqynnWKQg   \n",
       "2  2019-12-15 00:00:01 UTC  rEvoRfi83Hc5gxqpwRtc9jh7Z4C2hECCWY   \n",
       "3  2019-12-15 00:00:10 UTC   ryBANkk28Mj71jRKAkt13U1X9ubztsGWZ   \n",
       "4  2019-12-15 00:00:11 UTC  rLNaPoKeeBjZe2qs6x52yVPZpZ8td4dc6w   \n",
       "\n",
       "                          Destination   Fee  \\\n",
       "0  rUMhAy8zECaY9u6ntqTAXFu1t8gixCeHka    10   \n",
       "1  rLNaPoKeeBjZe2qs6x52yVPZpZ8td4dc6w    40   \n",
       "2  rnuPTVikw8HKK4hBGCtnq2J2433VYaZPZQ    12   \n",
       "3  rwU8rAiE2eyEPz3sikfbHuqCuiAtdXqa2v  7707   \n",
       "4  rwpMvfxoodXggJ1g4qv6MWAPQqWDwQyHUW    40   \n",
       "\n",
       "                                        TxnSignature    AmountXRP  LedgerIndex  \n",
       "0  304502210089A1985CB7AF1F667C61405FB4A609F06DEB...  48560300000     52058308  \n",
       "1  3045022100AEF609203571841221F6D13CD5991EE66AAF...  50000083642     52058309  \n",
       "2  304402203E8C80A7E4F36EEB754BCA9EF3CB2D5B2BFA08...       999999     52058309  \n",
       "3  304402203D711CFEB876FFC22375F0C8C3CC3B1DB8952D...  15728776000     52058310  \n",
       "4  3045022100F4BEBE96EF6610512BD07D789C1E2629342F...   1162250116     52058311  "
      ]
     },
     "execution_count": 16,
     "metadata": {},
     "output_type": "execute_result"
    }
   ],
   "source": [
    "df.head()"
   ]
  },
  {
   "cell_type": "code",
   "execution_count": 29,
   "metadata": {},
   "outputs": [],
   "source": [
    "UniqueAccount=np.unique(df['Account'])\n",
    "UniqueDestination=np.unique(df['Destination'])\n",
    "UniqueHash=np.unique(np.concatenate([UniqueDestination, UniqueAccount]))"
   ]
  },
  {
   "cell_type": "code",
   "execution_count": 32,
   "metadata": {},
   "outputs": [
    {
     "name": "stdout",
     "output_type": "stream",
     "text": [
      "1296 2033 2747\n"
     ]
    }
   ],
   "source": [
    "print(str(len(UniqueAccount))+' '+str(len(UniqueDestination))+' '+ str(len(UniqueHash)))"
   ]
  },
  {
   "cell_type": "code",
   "execution_count": 34,
   "metadata": {},
   "outputs": [],
   "source": [
    "UniqueHashList=UniqueHash.tolist()\n",
    "listofzeros = [0] * len(UniqueHashList)\n",
    "dic = {k:v for k,v in zip(UniqueHashList,listofzeros)}"
   ]
  },
  {
   "cell_type": "code",
   "execution_count": 39,
   "metadata": {},
   "outputs": [
    {
     "data": {
      "text/plain": [
       "0"
      ]
     },
     "execution_count": 39,
     "metadata": {},
     "output_type": "execute_result"
    }
   ],
   "source": [
    "dic['rPsmHDMkheWZvbAkTA8A9bVnUdadPn7XBK']"
   ]
  },
  {
   "cell_type": "code",
   "execution_count": 40,
   "metadata": {},
   "outputs": [],
   "source": [
    "for index, row in df.iterrows():\n",
    "    dic[row['Account']]+=(-1)*(row['AmountXRP'])\n",
    "    dic[row['Destination']]+=(1)*(row['AmountXRP'])\n",
    "    "
   ]
  },
  {
   "cell_type": "code",
   "execution_count": 50,
   "metadata": {},
   "outputs": [
    {
     "data": {
      "text/plain": [
       "(array([1.00e+00, 0.00e+00, 0.00e+00, 0.00e+00, 0.00e+00, 0.00e+00,\n",
       "        0.00e+00, 0.00e+00, 0.00e+00, 0.00e+00, 0.00e+00, 0.00e+00,\n",
       "        1.00e+00, 0.00e+00, 0.00e+00, 0.00e+00, 0.00e+00, 0.00e+00,\n",
       "        0.00e+00, 1.00e+00, 1.00e+00, 0.00e+00, 0.00e+00, 2.00e+00,\n",
       "        2.00e+00, 3.00e+00, 6.00e+00, 6.50e+01, 2.64e+03, 1.00e+01,\n",
       "        6.00e+00, 2.00e+00, 1.00e+00, 1.00e+00, 2.00e+00, 1.00e+00,\n",
       "        0.00e+00, 1.00e+00, 0.00e+00, 1.00e+00]),\n",
       " array([-7.65655238e+12, -7.38438599e+12, -7.11221960e+12, -6.84005321e+12,\n",
       "        -6.56788682e+12, -6.29572043e+12, -6.02355404e+12, -5.75138765e+12,\n",
       "        -5.47922126e+12, -5.20705487e+12, -4.93488848e+12, -4.66272209e+12,\n",
       "        -4.39055570e+12, -4.11838931e+12, -3.84622292e+12, -3.57405653e+12,\n",
       "        -3.30189014e+12, -3.02972375e+12, -2.75755736e+12, -2.48539097e+12,\n",
       "        -2.21322458e+12, -1.94105819e+12, -1.66889180e+12, -1.39672541e+12,\n",
       "        -1.12455902e+12, -8.52392629e+11, -5.80226239e+11, -3.08059849e+11,\n",
       "        -3.58934591e+10,  2.36272931e+11,  5.08439321e+11,  7.80605711e+11,\n",
       "         1.05277210e+12,  1.32493849e+12,  1.59710488e+12,  1.86927127e+12,\n",
       "         2.14143766e+12,  2.41360405e+12,  2.68577044e+12,  2.95793683e+12,\n",
       "         3.23010322e+12]),\n",
       " <a list of 40 Patch objects>)"
      ]
     },
     "execution_count": 50,
     "metadata": {},
     "output_type": "execute_result"
    },
    {
     "data": {
      "image/png": "[encoded data removed]",
      "text/plain": [
       "<Figure size 432x288 with 1 Axes>"
      ]
     },
     "metadata": {
      "needs_background": "light"
     },
     "output_type": "display_data"
    }
   ],
   "source": [
    "import matplotlib.pyplot as plt\n",
    "%matplotlib inline\n",
    "AccountBalances=list(dic.values())\n",
    "plt.hist(AccountBalances,bins=40)"
   ]
  },
  {
   "cell_type": "code",
   "execution_count": 27,
   "metadata": {},
   "outputs": [
    {
     "data": {
      "text/plain": [
       "numpy.ndarray"
      ]
     },
     "execution_count": 27,
     "metadata": {},
     "output_type": "execute_result"
    }
   ],
   "source": []
  },
  {
   "cell_type": "code",
   "execution_count": 22,
   "metadata": {},
   "outputs": [
    {
     "data": {
      "text/plain": [
       "'r1PdPu3464nsqEaLLmgopafwrwbH143dF'"
      ]
     },
     "execution_count": 22,
     "metadata": {},
     "output_type": "execute_result"
    }
   ],
   "source": []
  },
  {
   "cell_type": "code",
   "execution_count": null,
   "metadata": {},
   "outputs": [],
   "source": []
  }
 ],
 "metadata": {
  "kernelspec": {
   "display_name": "Python 3",
   "language": "python",
   "name": "python3"
  },
  "language_info": {
   "codemirror_mode": {
    "name": "ipython",
    "version": 3
   },
   "file_extension": ".py",
   "mimetype": "text/x-python",
   "name": "python",
   "nbconvert_exporter": "python",
   "pygments_lexer": "ipython3",
   "version": "3.7.3"
  }
 },
 "nbformat": 4,
 "nbformat_minor": 2
}
