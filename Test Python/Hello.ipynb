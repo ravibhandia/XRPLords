{
 "cells": [
  {
   "cell_type": "code",
   "execution_count": 19,
   "metadata": {},
   "outputs": [
    {
     "name": "stdout",
     "output_type": "stream",
     "text": [
      "Hello\n"
     ]
    }
   ],
   "source": [
    "print('Hello')"
   ]
  },
  {
   "cell_type": "code",
   "execution_count": null,
   "metadata": {},
   "outputs": [],
   "source": []
  },
  {
   "cell_type": "code",
   "execution_count": 25,
   "metadata": {},
   "outputs": [],
   "source": [
    "from google.cloud import bigquery\n",
    "from google.oauth2 import service_account\n",
    "key_path='../credential/Xpring Dev Sandbox-edb2a98acf17.json'\n",
    "credentials = service_account.Credentials.from_service_account_file(\n",
    "    key_path,\n",
    "    scopes=[\"https://www.googleapis.com/auth/cloud-platform\"],\n",
    ")"
   ]
  },
  {
   "cell_type": "code",
   "execution_count": 26,
   "metadata": {},
   "outputs": [
    {
     "data": {
      "text/plain": [
       "'../credential/Xpring Dev Sandbox-edb2a98acf17.json'"
      ]
     },
     "execution_count": 26,
     "metadata": {},
     "output_type": "execute_result"
    }
   ],
   "source": [
    "key_path"
   ]
  },
  {
   "cell_type": "code",
   "execution_count": 27,
   "metadata": {},
   "outputs": [
    {
     "data": {
      "text/plain": [
       "True"
      ]
     },
     "execution_count": 27,
     "metadata": {},
     "output_type": "execute_result"
    }
   ],
   "source": [
    "import os.path\n",
    "from os import path\n",
    "\n",
    "path.exists(key_path)"
   ]
  },
  {
   "cell_type": "code",
   "execution_count": 28,
   "metadata": {},
   "outputs": [],
   "source": [
    "def gbq_query(query,cred, query_params=None):\n",
    "    \"\"\"\n",
    "    Run a query against Google Big Query, returning a pandas dataframe of the result.\n",
    "\n",
    "    Parameters\n",
    "    ----------\n",
    "    query: str\n",
    "        The query string\n",
    "    cred: obj\n",
    "        Credential class instance\n",
    "    \n",
    "    query_params: list, optional\n",
    "        The query parameters to pass into the query string\n",
    "    \"\"\"\n",
    "    client = bigquery.Client(credentials=cred)\n",
    "    job_config = bigquery.QueryJobConfig()\n",
    "    return client.query(query, job_config=job_config).to_dataframe()"
   ]
  },
  {
   "cell_type": "code",
   "execution_count": 29,
   "metadata": {},
   "outputs": [],
   "source": [
    "query = \"\"\"\n",
    "Select \n",
    "  TIMESTAMP(l.CloseTime) as `TimeStamp`,\n",
    "  t.Account,t.Destination,t.Fee,t.TxnSignature,t.AmountXRP,t.LedgerIndex\n",
    "FROM\n",
    "  `xrpledgerdata.fullhistory.transactions`t\n",
    "JOIN\n",
    "  `xrpledgerdata.fullhistory.ledgers` l\n",
    "  on t.LedgerIndex=l.LedgerIndex\n",
    "where t.TransactionResult = \"tesSUCCESS\"\n",
    "AND TxnSignature IS NOT NULL\n",
    "AND Destination IS NOT NULL\n",
    "AND AmountXRP  IS NOT NULL\n",
    "AND TIMESTAMP(l.CloseTime) >=TIMESTAMP('2019-12-15')\n",
    "AND TIMESTAMP(l.CloseTime) <=TIMESTAMP('2019-12-20')\n",
    "\n",
    "\n",
    "ORDER BY TimeStamp\n",
    "LIMIT 100000;\n",
    "\"\"\"\n"
   ]
  },
  {
   "cell_type": "code",
   "execution_count": 30,
   "metadata": {},
   "outputs": [
    {
     "data": {
      "text/html": [
       "<div>\n",
       "<style scoped>\n",
       "    .dataframe tbody tr th:only-of-type {\n",
       "        vertical-align: middle;\n",
       "    }\n",
       "\n",
       "    .dataframe tbody tr th {\n",
       "        vertical-align: top;\n",
       "    }\n",
       "\n",
       "    .dataframe thead th {\n",
       "        text-align: right;\n",
       "    }\n",
       "</style>\n",
       "<table border=\"1\" class=\"dataframe\">\n",
       "  <thead>\n",
       "    <tr style=\"text-align: right;\">\n",
       "      <th></th>\n",
       "      <th>TimeStamp</th>\n",
       "      <th>Account</th>\n",
       "      <th>Destination</th>\n",
       "      <th>Fee</th>\n",
       "      <th>TxnSignature</th>\n",
       "      <th>AmountXRP</th>\n",
       "      <th>LedgerIndex</th>\n",
       "    </tr>\n",
       "  </thead>\n",
       "  <tbody>\n",
       "    <tr>\n",
       "      <th>0</th>\n",
       "      <td>2019-12-15 00:00:00+00:00</td>\n",
       "      <td>rPsmHDMkheWZvbAkTA8A9bVnUdadPn7XBK</td>\n",
       "      <td>rUMhAy8zECaY9u6ntqTAXFu1t8gixCeHka</td>\n",
       "      <td>10</td>\n",
       "      <td>304502210089A1985CB7AF1F667C61405FB4A609F06DEB...</td>\n",
       "      <td>48560300000</td>\n",
       "      <td>52058308</td>\n",
       "    </tr>\n",
       "    <tr>\n",
       "      <th>1</th>\n",
       "      <td>2019-12-15 00:00:01+00:00</td>\n",
       "      <td>rw2ciyaNshpHe7bCHo4bRWq6pqqynnWKQg</td>\n",
       "      <td>rLNaPoKeeBjZe2qs6x52yVPZpZ8td4dc6w</td>\n",
       "      <td>40</td>\n",
       "      <td>3045022100AEF609203571841221F6D13CD5991EE66AAF...</td>\n",
       "      <td>50000083642</td>\n",
       "      <td>52058309</td>\n",
       "    </tr>\n",
       "    <tr>\n",
       "      <th>2</th>\n",
       "      <td>2019-12-15 00:00:01+00:00</td>\n",
       "      <td>rEvoRfi83Hc5gxqpwRtc9jh7Z4C2hECCWY</td>\n",
       "      <td>rnuPTVikw8HKK4hBGCtnq2J2433VYaZPZQ</td>\n",
       "      <td>12</td>\n",
       "      <td>304402203E8C80A7E4F36EEB754BCA9EF3CB2D5B2BFA08...</td>\n",
       "      <td>999999</td>\n",
       "      <td>52058309</td>\n",
       "    </tr>\n",
       "    <tr>\n",
       "      <th>3</th>\n",
       "      <td>2019-12-15 00:00:10+00:00</td>\n",
       "      <td>ryBANkk28Mj71jRKAkt13U1X9ubztsGWZ</td>\n",
       "      <td>rwU8rAiE2eyEPz3sikfbHuqCuiAtdXqa2v</td>\n",
       "      <td>7707</td>\n",
       "      <td>304402203D711CFEB876FFC22375F0C8C3CC3B1DB8952D...</td>\n",
       "      <td>15728776000</td>\n",
       "      <td>52058310</td>\n",
       "    </tr>\n",
       "    <tr>\n",
       "      <th>4</th>\n",
       "      <td>2019-12-15 00:00:11+00:00</td>\n",
       "      <td>rLNaPoKeeBjZe2qs6x52yVPZpZ8td4dc6w</td>\n",
       "      <td>rwpMvfxoodXggJ1g4qv6MWAPQqWDwQyHUW</td>\n",
       "      <td>40</td>\n",
       "      <td>3045022100F4BEBE96EF6610512BD07D789C1E2629342F...</td>\n",
       "      <td>1162250116</td>\n",
       "      <td>52058311</td>\n",
       "    </tr>\n",
       "    <tr>\n",
       "      <th>...</th>\n",
       "      <td>...</td>\n",
       "      <td>...</td>\n",
       "      <td>...</td>\n",
       "      <td>...</td>\n",
       "      <td>...</td>\n",
       "      <td>...</td>\n",
       "      <td>...</td>\n",
       "    </tr>\n",
       "    <tr>\n",
       "      <th>99995</th>\n",
       "      <td>2019-12-19 06:12:22+00:00</td>\n",
       "      <td>rUtCyL45mkqkSqvnoGMHJsqopmrAr1azDa</td>\n",
       "      <td>rU2mEJSLqBRkYLVTv55rFTgQajkLTnT6mA</td>\n",
       "      <td>12</td>\n",
       "      <td>3045022100EACEFB09AD26111502E19898D01087C7E631...</td>\n",
       "      <td>2664</td>\n",
       "      <td>52151549</td>\n",
       "    </tr>\n",
       "    <tr>\n",
       "      <th>99996</th>\n",
       "      <td>2019-12-19 06:12:30+00:00</td>\n",
       "      <td>rUtCyL45mkqkSqvnoGMHJsqopmrAr1azDa</td>\n",
       "      <td>rU2mEJSLqBRkYLVTv55rFTgQajkLTnT6mA</td>\n",
       "      <td>12</td>\n",
       "      <td>3045022100FA7E5E19D1FEA7E0FFB3FB828A784BFCACC0...</td>\n",
       "      <td>2664</td>\n",
       "      <td>52151550</td>\n",
       "    </tr>\n",
       "    <tr>\n",
       "      <th>99997</th>\n",
       "      <td>2019-12-19 06:12:30+00:00</td>\n",
       "      <td>rAPERVgXZavGgiGv6xBgtiZurirW2yAmY</td>\n",
       "      <td>rU2mEJSLqBRkYLVTv55rFTgQajkLTnT6mA</td>\n",
       "      <td>12</td>\n",
       "      <td>30440220667E43D2230337A0ACBB7FC4278D6170B1ABA9...</td>\n",
       "      <td>300</td>\n",
       "      <td>52151550</td>\n",
       "    </tr>\n",
       "    <tr>\n",
       "      <th>99998</th>\n",
       "      <td>2019-12-19 06:12:30+00:00</td>\n",
       "      <td>rLNaPoKeeBjZe2qs6x52yVPZpZ8td4dc6w</td>\n",
       "      <td>rGsBXMnVZ4PdfsDTB2r7qGFzQAtfjiBLS1</td>\n",
       "      <td>40</td>\n",
       "      <td>30440220297A12429D6EE005FC5D50AA012A2E406BE9A2...</td>\n",
       "      <td>1419675959</td>\n",
       "      <td>52151550</td>\n",
       "    </tr>\n",
       "    <tr>\n",
       "      <th>99999</th>\n",
       "      <td>2019-12-19 06:12:30+00:00</td>\n",
       "      <td>rNhVwU93HwKtSucyXfJt6Wanxw5FHSwJHq</td>\n",
       "      <td>rsh5HHkNnFMvBoPm5FveQMkiMMYxFDCK74</td>\n",
       "      <td>1000</td>\n",
       "      <td>3045022100DC56F3A4D4181D247ADC5CC5B32F8AF56FDC...</td>\n",
       "      <td>302021999000</td>\n",
       "      <td>52151550</td>\n",
       "    </tr>\n",
       "  </tbody>\n",
       "</table>\n",
       "<p>100000 rows × 7 columns</p>\n",
       "</div>"
      ],
      "text/plain": [
       "                      TimeStamp                             Account  \\\n",
       "0     2019-12-15 00:00:00+00:00  rPsmHDMkheWZvbAkTA8A9bVnUdadPn7XBK   \n",
       "1     2019-12-15 00:00:01+00:00  rw2ciyaNshpHe7bCHo4bRWq6pqqynnWKQg   \n",
       "2     2019-12-15 00:00:01+00:00  rEvoRfi83Hc5gxqpwRtc9jh7Z4C2hECCWY   \n",
       "3     2019-12-15 00:00:10+00:00   ryBANkk28Mj71jRKAkt13U1X9ubztsGWZ   \n",
       "4     2019-12-15 00:00:11+00:00  rLNaPoKeeBjZe2qs6x52yVPZpZ8td4dc6w   \n",
       "...                         ...                                 ...   \n",
       "99995 2019-12-19 06:12:22+00:00  rUtCyL45mkqkSqvnoGMHJsqopmrAr1azDa   \n",
       "99996 2019-12-19 06:12:30+00:00  rUtCyL45mkqkSqvnoGMHJsqopmrAr1azDa   \n",
       "99997 2019-12-19 06:12:30+00:00   rAPERVgXZavGgiGv6xBgtiZurirW2yAmY   \n",
       "99998 2019-12-19 06:12:30+00:00  rLNaPoKeeBjZe2qs6x52yVPZpZ8td4dc6w   \n",
       "99999 2019-12-19 06:12:30+00:00  rNhVwU93HwKtSucyXfJt6Wanxw5FHSwJHq   \n",
       "\n",
       "                              Destination   Fee  \\\n",
       "0      rUMhAy8zECaY9u6ntqTAXFu1t8gixCeHka    10   \n",
       "1      rLNaPoKeeBjZe2qs6x52yVPZpZ8td4dc6w    40   \n",
       "2      rnuPTVikw8HKK4hBGCtnq2J2433VYaZPZQ    12   \n",
       "3      rwU8rAiE2eyEPz3sikfbHuqCuiAtdXqa2v  7707   \n",
       "4      rwpMvfxoodXggJ1g4qv6MWAPQqWDwQyHUW    40   \n",
       "...                                   ...   ...   \n",
       "99995  rU2mEJSLqBRkYLVTv55rFTgQajkLTnT6mA    12   \n",
       "99996  rU2mEJSLqBRkYLVTv55rFTgQajkLTnT6mA    12   \n",
       "99997  rU2mEJSLqBRkYLVTv55rFTgQajkLTnT6mA    12   \n",
       "99998  rGsBXMnVZ4PdfsDTB2r7qGFzQAtfjiBLS1    40   \n",
       "99999  rsh5HHkNnFMvBoPm5FveQMkiMMYxFDCK74  1000   \n",
       "\n",
       "                                            TxnSignature     AmountXRP  \\\n",
       "0      304502210089A1985CB7AF1F667C61405FB4A609F06DEB...   48560300000   \n",
       "1      3045022100AEF609203571841221F6D13CD5991EE66AAF...   50000083642   \n",
       "2      304402203E8C80A7E4F36EEB754BCA9EF3CB2D5B2BFA08...        999999   \n",
       "3      304402203D711CFEB876FFC22375F0C8C3CC3B1DB8952D...   15728776000   \n",
       "4      3045022100F4BEBE96EF6610512BD07D789C1E2629342F...    1162250116   \n",
       "...                                                  ...           ...   \n",
       "99995  3045022100EACEFB09AD26111502E19898D01087C7E631...          2664   \n",
       "99996  3045022100FA7E5E19D1FEA7E0FFB3FB828A784BFCACC0...          2664   \n",
       "99997  30440220667E43D2230337A0ACBB7FC4278D6170B1ABA9...           300   \n",
       "99998  30440220297A12429D6EE005FC5D50AA012A2E406BE9A2...    1419675959   \n",
       "99999  3045022100DC56F3A4D4181D247ADC5CC5B32F8AF56FDC...  302021999000   \n",
       "\n",
       "       LedgerIndex  \n",
       "0         52058308  \n",
       "1         52058309  \n",
       "2         52058309  \n",
       "3         52058310  \n",
       "4         52058311  \n",
       "...            ...  \n",
       "99995     52151549  \n",
       "99996     52151550  \n",
       "99997     52151550  \n",
       "99998     52151550  \n",
       "99999     52151550  \n",
       "\n",
       "[100000 rows x 7 columns]"
      ]
     },
     "execution_count": 30,
     "metadata": {},
     "output_type": "execute_result"
    }
   ],
   "source": [
    "xrp = gbq_query(query,credentials)\n",
    "xrp"
   ]
  },
  {
   "cell_type": "code",
   "execution_count": null,
   "metadata": {},
   "outputs": [],
   "source": []
  }
 ],
 "metadata": {
  "kernelspec": {
   "display_name": "Python 3",
   "language": "python",
   "name": "python3"
  },
  "language_info": {
   "codemirror_mode": {
    "name": "ipython",
    "version": 3
   },
   "file_extension": ".py",
   "mimetype": "text/x-python",
   "name": "python",
   "nbconvert_exporter": "python",
   "pygments_lexer": "ipython3",
   "version": "3.5.3"
  }
 },
 "nbformat": 4,
 "nbformat_minor": 2
}
