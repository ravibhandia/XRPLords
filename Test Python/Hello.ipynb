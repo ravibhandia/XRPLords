{
 "cells": [
  {
   "cell_type": "code",
   "execution_count": 136,
   "metadata": {},
   "outputs": [
    {
     "name": "stdout",
     "output_type": "stream",
     "text": [
      "Hello\n"
     ]
    }
   ],
   "source": [
    "print('Hello')"
   ]
  },
  {
   "cell_type": "code",
   "execution_count": 85,
   "metadata": {},
   "outputs": [],
   "source": [
    "from datetime import datetime, timedelta\n",
    "import time\n",
    "import pandas as pd"
   ]
  },
  {
   "cell_type": "code",
   "execution_count": 86,
   "metadata": {},
   "outputs": [],
   "source": [
    "from google.cloud import bigquery\n",
    "from google.oauth2 import service_account\n",
    "key_path='../credential/Xpring Dev Sandbox-edb2a98acf17.json'\n",
    "credentials = service_account.Credentials.from_service_account_file(\n",
    "    key_path,\n",
    "    scopes=[\"https://www.googleapis.com/auth/cloud-platform\"],\n",
    ")"
   ]
  },
  {
   "cell_type": "code",
   "execution_count": 47,
   "metadata": {},
   "outputs": [
    {
     "data": {
      "text/plain": [
       "'../credential/Xpring Dev Sandbox-edb2a98acf17.json'"
      ]
     },
     "execution_count": 47,
     "metadata": {},
     "output_type": "execute_result"
    }
   ],
   "source": [
    "key_path"
   ]
  },
  {
   "cell_type": "code",
   "execution_count": 48,
   "metadata": {},
   "outputs": [
    {
     "data": {
      "text/plain": [
       "True"
      ]
     },
     "execution_count": 48,
     "metadata": {},
     "output_type": "execute_result"
    }
   ],
   "source": [
    "import os.path\n",
    "from os import path\n",
    "\n",
    "path.exists(key_path)"
   ]
  },
  {
   "cell_type": "code",
   "execution_count": 49,
   "metadata": {},
   "outputs": [],
   "source": [
    "def gbq_query(query,cred, query_params=None):\n",
    "    \"\"\"\n",
    "    Run a query against Google Big Query, returning a pandas dataframe of the result.\n",
    "\n",
    "    Parameters\n",
    "    ----------\n",
    "    query: str\n",
    "        The query string\n",
    "    cred: obj\n",
    "        Credential class instance\n",
    "    \n",
    "    query_params: list, optional\n",
    "        The query parameters to pass into the query string\n",
    "    \"\"\"\n",
    "    client = bigquery.Client(credentials=cred)\n",
    "    job_config = bigquery.QueryJobConfig()\n",
    "    job_config.query_parameters = query_params\n",
    "    return client.query(query, job_config=job_config).to_dataframe()"
   ]
  },
  {
   "cell_type": "code",
   "execution_count": 50,
   "metadata": {},
   "outputs": [],
   "source": [
    "start_date='2019-12-15'\n",
    "end_date='2019-12-26'"
   ]
  },
  {
   "cell_type": "code",
   "execution_count": 51,
   "metadata": {},
   "outputs": [],
   "source": [
    "query = \"\"\"\n",
    "Select \n",
    "  TIMESTAMP(l.CloseTime) as `TimeStamp`,\n",
    "  t.Account,t.Destination,t.Fee,t.TxnSignature,t.AmountXRP,t.LedgerIndex\n",
    "FROM\n",
    "  `xrpledgerdata.fullhistory.transactions`t\n",
    "JOIN\n",
    "  `xrpledgerdata.fullhistory.ledgers` l\n",
    "  on t.LedgerIndex=l.LedgerIndex\n",
    "where t.TransactionResult = \"tesSUCCESS\"\n",
    "AND TxnSignature IS NOT NULL\n",
    "AND Destination IS NOT NULL\n",
    "AND AmountXRP  IS NOT NULL\n",
    "AND TIMESTAMP(l.CloseTime) >=TIMESTAMP(@start_date)\n",
    "AND TIMESTAMP(l.CloseTime) <=TIMESTAMP(@end_date)\n",
    "\n",
    "\n",
    "ORDER BY TimeStamp\n",
    "LIMIT 200000;\n",
    "\"\"\"\n",
    "query_params = [\n",
    "    bigquery.ScalarQueryParameter(\"start_date\", \"STRING\", start_date),\n",
    "    bigquery.ScalarQueryParameter(\"end_date\", \"STRING\", end_date)\n",
    "]\n"
   ]
  },
  {
   "cell_type": "code",
   "execution_count": 149,
   "metadata": {},
   "outputs": [
    {
     "data": {
      "text/html": [
       "<div>\n",
       "<style scoped>\n",
       "    .dataframe tbody tr th:only-of-type {\n",
       "        vertical-align: middle;\n",
       "    }\n",
       "\n",
       "    .dataframe tbody tr th {\n",
       "        vertical-align: top;\n",
       "    }\n",
       "\n",
       "    .dataframe thead th {\n",
       "        text-align: right;\n",
       "    }\n",
       "</style>\n",
       "<table border=\"1\" class=\"dataframe\">\n",
       "  <thead>\n",
       "    <tr style=\"text-align: right;\">\n",
       "      <th></th>\n",
       "      <th>TimeStamp</th>\n",
       "      <th>Account</th>\n",
       "      <th>Destination</th>\n",
       "      <th>Fee</th>\n",
       "      <th>TxnSignature</th>\n",
       "      <th>AmountXRP</th>\n",
       "      <th>LedgerIndex</th>\n",
       "    </tr>\n",
       "  </thead>\n",
       "  <tbody>\n",
       "    <tr>\n",
       "      <th>0</th>\n",
       "      <td>2019-12-15 00:00:00+00:00</td>\n",
       "      <td>rPsmHDMkheWZvbAkTA8A9bVnUdadPn7XBK</td>\n",
       "      <td>rUMhAy8zECaY9u6ntqTAXFu1t8gixCeHka</td>\n",
       "      <td>10</td>\n",
       "      <td>304502210089A1985CB7AF1F667C61405FB4A609F06DEB...</td>\n",
       "      <td>48560300000</td>\n",
       "      <td>52058308</td>\n",
       "    </tr>\n",
       "    <tr>\n",
       "      <th>1</th>\n",
       "      <td>2019-12-15 00:00:01+00:00</td>\n",
       "      <td>rEvoRfi83Hc5gxqpwRtc9jh7Z4C2hECCWY</td>\n",
       "      <td>rnuPTVikw8HKK4hBGCtnq2J2433VYaZPZQ</td>\n",
       "      <td>12</td>\n",
       "      <td>304402203E8C80A7E4F36EEB754BCA9EF3CB2D5B2BFA08...</td>\n",
       "      <td>999999</td>\n",
       "      <td>52058309</td>\n",
       "    </tr>\n",
       "    <tr>\n",
       "      <th>2</th>\n",
       "      <td>2019-12-15 00:00:01+00:00</td>\n",
       "      <td>rw2ciyaNshpHe7bCHo4bRWq6pqqynnWKQg</td>\n",
       "      <td>rLNaPoKeeBjZe2qs6x52yVPZpZ8td4dc6w</td>\n",
       "      <td>40</td>\n",
       "      <td>3045022100AEF609203571841221F6D13CD5991EE66AAF...</td>\n",
       "      <td>50000083642</td>\n",
       "      <td>52058309</td>\n",
       "    </tr>\n",
       "    <tr>\n",
       "      <th>3</th>\n",
       "      <td>2019-12-15 00:00:10+00:00</td>\n",
       "      <td>ryBANkk28Mj71jRKAkt13U1X9ubztsGWZ</td>\n",
       "      <td>rwU8rAiE2eyEPz3sikfbHuqCuiAtdXqa2v</td>\n",
       "      <td>7707</td>\n",
       "      <td>304402203D711CFEB876FFC22375F0C8C3CC3B1DB8952D...</td>\n",
       "      <td>15728776000</td>\n",
       "      <td>52058310</td>\n",
       "    </tr>\n",
       "    <tr>\n",
       "      <th>4</th>\n",
       "      <td>2019-12-15 00:00:11+00:00</td>\n",
       "      <td>rLNaPoKeeBjZe2qs6x52yVPZpZ8td4dc6w</td>\n",
       "      <td>rwpMvfxoodXggJ1g4qv6MWAPQqWDwQyHUW</td>\n",
       "      <td>40</td>\n",
       "      <td>3045022100F4BEBE96EF6610512BD07D789C1E2629342F...</td>\n",
       "      <td>1162250116</td>\n",
       "      <td>52058311</td>\n",
       "    </tr>\n",
       "    <tr>\n",
       "      <th>...</th>\n",
       "      <td>...</td>\n",
       "      <td>...</td>\n",
       "      <td>...</td>\n",
       "      <td>...</td>\n",
       "      <td>...</td>\n",
       "      <td>...</td>\n",
       "      <td>...</td>\n",
       "    </tr>\n",
       "    <tr>\n",
       "      <th>199995</th>\n",
       "      <td>2019-12-24 00:34:32+00:00</td>\n",
       "      <td>rJb5KsHsDHF1YS5B5DU6QCkH5NsPaKQTcy</td>\n",
       "      <td>rU2mEJSLqBRkYLVTv55rFTgQajkLTnT6mA</td>\n",
       "      <td>200000</td>\n",
       "      <td>30440220181D2071B07AD340FE60D46FDA0A08F14916FE...</td>\n",
       "      <td>850499000</td>\n",
       "      <td>52256435</td>\n",
       "    </tr>\n",
       "    <tr>\n",
       "      <th>199996</th>\n",
       "      <td>2019-12-24 00:34:32+00:00</td>\n",
       "      <td>rJb5KsHsDHF1YS5B5DU6QCkH5NsPaKQTcy</td>\n",
       "      <td>r35XtHaHFHcQ3uhAB8JLNRFWcCPCKecABp</td>\n",
       "      <td>200000</td>\n",
       "      <td>3045022100D5B78A66FE2052731473C28A64EC4D3735EB...</td>\n",
       "      <td>1921750000</td>\n",
       "      <td>52256435</td>\n",
       "    </tr>\n",
       "    <tr>\n",
       "      <th>199997</th>\n",
       "      <td>2019-12-24 00:34:32+00:00</td>\n",
       "      <td>rJb5KsHsDHF1YS5B5DU6QCkH5NsPaKQTcy</td>\n",
       "      <td>rMvYS27SYs5dXdFsUgpvv1CSrPsCz7ePF5</td>\n",
       "      <td>200000</td>\n",
       "      <td>3045022100D1F94C4DC2104F39D8F58709545349E26C73...</td>\n",
       "      <td>46423750000</td>\n",
       "      <td>52256435</td>\n",
       "    </tr>\n",
       "    <tr>\n",
       "      <th>199998</th>\n",
       "      <td>2019-12-24 00:34:40+00:00</td>\n",
       "      <td>rMvYS27SYs5dXdFsUgpvv1CSrPsCz7ePF5</td>\n",
       "      <td>rEeEWeP88cpKUddKk37B2EZeiHBGiBXY3</td>\n",
       "      <td>1000</td>\n",
       "      <td>3045022100ED4B2301191FCA69E37623F45A13233F22A2...</td>\n",
       "      <td>134782688834</td>\n",
       "      <td>52256436</td>\n",
       "    </tr>\n",
       "    <tr>\n",
       "      <th>199999</th>\n",
       "      <td>2019-12-24 00:34:40+00:00</td>\n",
       "      <td>rJb5KsHsDHF1YS5B5DU6QCkH5NsPaKQTcy</td>\n",
       "      <td>rU2mEJSLqBRkYLVTv55rFTgQajkLTnT6mA</td>\n",
       "      <td>200000</td>\n",
       "      <td>3045022100F498AF3031FAA8C1F607F168D5BF43AC4733...</td>\n",
       "      <td>3499750000</td>\n",
       "      <td>52256436</td>\n",
       "    </tr>\n",
       "  </tbody>\n",
       "</table>\n",
       "<p>200000 rows × 7 columns</p>\n",
       "</div>"
      ],
      "text/plain": [
       "                       TimeStamp                             Account  \\\n",
       "0      2019-12-15 00:00:00+00:00  rPsmHDMkheWZvbAkTA8A9bVnUdadPn7XBK   \n",
       "1      2019-12-15 00:00:01+00:00  rEvoRfi83Hc5gxqpwRtc9jh7Z4C2hECCWY   \n",
       "2      2019-12-15 00:00:01+00:00  rw2ciyaNshpHe7bCHo4bRWq6pqqynnWKQg   \n",
       "3      2019-12-15 00:00:10+00:00   ryBANkk28Mj71jRKAkt13U1X9ubztsGWZ   \n",
       "4      2019-12-15 00:00:11+00:00  rLNaPoKeeBjZe2qs6x52yVPZpZ8td4dc6w   \n",
       "...                          ...                                 ...   \n",
       "199995 2019-12-24 00:34:32+00:00  rJb5KsHsDHF1YS5B5DU6QCkH5NsPaKQTcy   \n",
       "199996 2019-12-24 00:34:32+00:00  rJb5KsHsDHF1YS5B5DU6QCkH5NsPaKQTcy   \n",
       "199997 2019-12-24 00:34:32+00:00  rJb5KsHsDHF1YS5B5DU6QCkH5NsPaKQTcy   \n",
       "199998 2019-12-24 00:34:40+00:00  rMvYS27SYs5dXdFsUgpvv1CSrPsCz7ePF5   \n",
       "199999 2019-12-24 00:34:40+00:00  rJb5KsHsDHF1YS5B5DU6QCkH5NsPaKQTcy   \n",
       "\n",
       "                               Destination     Fee  \\\n",
       "0       rUMhAy8zECaY9u6ntqTAXFu1t8gixCeHka      10   \n",
       "1       rnuPTVikw8HKK4hBGCtnq2J2433VYaZPZQ      12   \n",
       "2       rLNaPoKeeBjZe2qs6x52yVPZpZ8td4dc6w      40   \n",
       "3       rwU8rAiE2eyEPz3sikfbHuqCuiAtdXqa2v    7707   \n",
       "4       rwpMvfxoodXggJ1g4qv6MWAPQqWDwQyHUW      40   \n",
       "...                                    ...     ...   \n",
       "199995  rU2mEJSLqBRkYLVTv55rFTgQajkLTnT6mA  200000   \n",
       "199996  r35XtHaHFHcQ3uhAB8JLNRFWcCPCKecABp  200000   \n",
       "199997  rMvYS27SYs5dXdFsUgpvv1CSrPsCz7ePF5  200000   \n",
       "199998   rEeEWeP88cpKUddKk37B2EZeiHBGiBXY3    1000   \n",
       "199999  rU2mEJSLqBRkYLVTv55rFTgQajkLTnT6mA  200000   \n",
       "\n",
       "                                             TxnSignature     AmountXRP  \\\n",
       "0       304502210089A1985CB7AF1F667C61405FB4A609F06DEB...   48560300000   \n",
       "1       304402203E8C80A7E4F36EEB754BCA9EF3CB2D5B2BFA08...        999999   \n",
       "2       3045022100AEF609203571841221F6D13CD5991EE66AAF...   50000083642   \n",
       "3       304402203D711CFEB876FFC22375F0C8C3CC3B1DB8952D...   15728776000   \n",
       "4       3045022100F4BEBE96EF6610512BD07D789C1E2629342F...    1162250116   \n",
       "...                                                   ...           ...   \n",
       "199995  30440220181D2071B07AD340FE60D46FDA0A08F14916FE...     850499000   \n",
       "199996  3045022100D5B78A66FE2052731473C28A64EC4D3735EB...    1921750000   \n",
       "199997  3045022100D1F94C4DC2104F39D8F58709545349E26C73...   46423750000   \n",
       "199998  3045022100ED4B2301191FCA69E37623F45A13233F22A2...  134782688834   \n",
       "199999  3045022100F498AF3031FAA8C1F607F168D5BF43AC4733...    3499750000   \n",
       "\n",
       "        LedgerIndex  \n",
       "0          52058308  \n",
       "1          52058309  \n",
       "2          52058309  \n",
       "3          52058310  \n",
       "4          52058311  \n",
       "...             ...  \n",
       "199995     52256435  \n",
       "199996     52256435  \n",
       "199997     52256435  \n",
       "199998     52256436  \n",
       "199999     52256436  \n",
       "\n",
       "[200000 rows x 7 columns]"
      ]
     },
     "execution_count": 149,
     "metadata": {},
     "output_type": "execute_result"
    }
   ],
   "source": [
    "xrp = gbq_query(query,credentials,query_params)\n",
    "xrp"
   ]
  },
  {
   "cell_type": "code",
   "execution_count": 165,
   "metadata": {},
   "outputs": [],
   "source": [
    "def datetotime(col):\n",
    "    #returns a list of datetime objects\n",
    "    #takes in a df column\n",
    "    x=[]\n",
    "    for entry in col:\n",
    "        x.append(datetime.strptime(entry,'%Y-%m-%d %H:%M:%S'))\n",
    "    return x"
   ]
  },
  {
   "cell_type": "code",
   "execution_count": 140,
   "metadata": {},
   "outputs": [],
   "source": []
  },
  {
   "cell_type": "code",
   "execution_count": 172,
   "metadata": {},
   "outputs": [],
   "source": [
    "xrp['TimeStamp']= [str(x)[:19] for x in xrp['TimeStamp']]"
   ]
  },
  {
   "cell_type": "code",
   "execution_count": 173,
   "metadata": {
    "scrolled": true
   },
   "outputs": [
    {
     "data": {
      "text/plain": [
       "'2019-12-15 00:00:01'"
      ]
     },
     "execution_count": 173,
     "metadata": {},
     "output_type": "execute_result"
    }
   ],
   "source": [
    "xrp['TimeStamp'][1]"
   ]
  },
  {
   "cell_type": "code",
   "execution_count": 174,
   "metadata": {},
   "outputs": [],
   "source": [
    "xrp['TimeStamp']=datetotime(xrp['TimeStamp'])"
   ]
  },
  {
   "cell_type": "code",
   "execution_count": 176,
   "metadata": {},
   "outputs": [
    {
     "data": {
      "text/plain": [
       "Timestamp('2019-12-15 00:00:01')"
      ]
     },
     "execution_count": 176,
     "metadata": {},
     "output_type": "execute_result"
    }
   ],
   "source": [
    "xrp['TimeStamp'][1]"
   ]
  },
  {
   "cell_type": "code",
   "execution_count": 183,
   "metadata": {},
   "outputs": [
    {
     "data": {
      "text/plain": [
       "['__abs__',\n",
       " '__add__',\n",
       " '__array_priority__',\n",
       " '__bool__',\n",
       " '__class__',\n",
       " '__delattr__',\n",
       " '__dict__',\n",
       " '__dir__',\n",
       " '__divmod__',\n",
       " '__doc__',\n",
       " '__eq__',\n",
       " '__floordiv__',\n",
       " '__format__',\n",
       " '__ge__',\n",
       " '__getattribute__',\n",
       " '__gt__',\n",
       " '__hash__',\n",
       " '__init__',\n",
       " '__inv__',\n",
       " '__le__',\n",
       " '__lt__',\n",
       " '__mod__',\n",
       " '__module__',\n",
       " '__mul__',\n",
       " '__ne__',\n",
       " '__neg__',\n",
       " '__new__',\n",
       " '__pos__',\n",
       " '__pyx_vtable__',\n",
       " '__radd__',\n",
       " '__rdivmod__',\n",
       " '__reduce__',\n",
       " '__reduce_cython__',\n",
       " '__reduce_ex__',\n",
       " '__repr__',\n",
       " '__rfloordiv__',\n",
       " '__rmod__',\n",
       " '__rmul__',\n",
       " '__rsub__',\n",
       " '__rtruediv__',\n",
       " '__setattr__',\n",
       " '__setstate__',\n",
       " '__setstate_cython__',\n",
       " '__sizeof__',\n",
       " '__str__',\n",
       " '__sub__',\n",
       " '__subclasshook__',\n",
       " '__truediv__',\n",
       " '__weakref__',\n",
       " '_d',\n",
       " '_ensure_components',\n",
       " '_h',\n",
       " '_has_ns',\n",
       " '_m',\n",
       " '_ms',\n",
       " '_ns',\n",
       " '_repr_base',\n",
       " '_round',\n",
       " '_s',\n",
       " '_us',\n",
       " 'asm8',\n",
       " 'ceil',\n",
       " 'components',\n",
       " 'days',\n",
       " 'delta',\n",
       " 'floor',\n",
       " 'freq',\n",
       " 'is_populated',\n",
       " 'isoformat',\n",
       " 'max',\n",
       " 'microseconds',\n",
       " 'min',\n",
       " 'nanoseconds',\n",
       " 'resolution',\n",
       " 'resolution_string',\n",
       " 'round',\n",
       " 'seconds',\n",
       " 'to_numpy',\n",
       " 'to_pytimedelta',\n",
       " 'to_timedelta64',\n",
       " 'total_seconds',\n",
       " 'value',\n",
       " 'view']"
      ]
     },
     "execution_count": 183,
     "metadata": {},
     "output_type": "execute_result"
    }
   ],
   "source": [
    "dir(xrp['TimeStamp'][10]-xrp['TimeStamp'][1])"
   ]
  },
  {
   "cell_type": "code",
   "execution_count": 177,
   "metadata": {},
   "outputs": [
    {
     "ename": "TypeError",
     "evalue": "unsupported type for timedelta days component: Timestamp",
     "output_type": "error",
     "traceback": [
      "\u001b[0;31m---------------------------------------------------------------------------\u001b[0m",
      "\u001b[0;31mTypeError\u001b[0m                                 Traceback (most recent call last)",
      "\u001b[0;32m<ipython-input-177-9e2b0569a9be>\u001b[0m in \u001b[0;36m<module>\u001b[0;34m\u001b[0m\n\u001b[0;32m----> 1\u001b[0;31m \u001b[0mtimedelta1\u001b[0m\u001b[0;34m=\u001b[0m\u001b[0mtimedelta\u001b[0m\u001b[0;34m(\u001b[0m\u001b[0mxrp\u001b[0m\u001b[0;34m[\u001b[0m\u001b[0;34m'TimeStamp'\u001b[0m\u001b[0;34m]\u001b[0m\u001b[0;34m[\u001b[0m\u001b[0;36m1\u001b[0m\u001b[0;34m]\u001b[0m\u001b[0;34m)\u001b[0m\u001b[0;34m\u001b[0m\u001b[0m\n\u001b[0m\u001b[1;32m      2\u001b[0m \u001b[0mtimedelta2\u001b[0m\u001b[0;34m=\u001b[0m\u001b[0mtimedelta\u001b[0m\u001b[0;34m(\u001b[0m\u001b[0mxrp\u001b[0m\u001b[0;34m[\u001b[0m\u001b[0;34m'TimeStamp'\u001b[0m\u001b[0;34m]\u001b[0m\u001b[0;34m[\u001b[0m\u001b[0;36m2\u001b[0m\u001b[0;34m]\u001b[0m\u001b[0;34m)\u001b[0m\u001b[0;34m\u001b[0m\u001b[0m\n",
      "\u001b[0;31mTypeError\u001b[0m: unsupported type for timedelta days component: Timestamp"
     ]
    }
   ],
   "source": [
    "timedelta1=timedelta(xrp['TimeStamp'][1])\n",
    "timedelta2=timedelta(xrp['TimeStamp'][2])"
   ]
  },
  {
   "cell_type": "code",
   "execution_count": null,
   "metadata": {},
   "outputs": [],
   "source": []
  }
 ],
 "metadata": {
  "kernelspec": {
   "display_name": "Python 3",
   "language": "python",
   "name": "python3"
  },
  "language_info": {
   "codemirror_mode": {
    "name": "ipython",
    "version": 3
   },
   "file_extension": ".py",
   "mimetype": "text/x-python",
   "name": "python",
   "nbconvert_exporter": "python",
   "pygments_lexer": "ipython3",
   "version": "3.5.3"
  }
 },
 "nbformat": 4,
 "nbformat_minor": 2
}
