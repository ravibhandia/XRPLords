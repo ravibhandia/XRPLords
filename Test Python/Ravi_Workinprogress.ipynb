{
 "cells": [
  {
   "cell_type": "code",
   "execution_count": 1,
   "metadata": {},
   "outputs": [
    {
     "name": "stdout",
     "output_type": "stream",
     "text": [
      "Hello\n"
     ]
    }
   ],
   "source": [
    "#Checking to see if cloud instance is working :) \n",
    "print('Hello')"
   ]
  },
  {
   "cell_type": "code",
   "execution_count": 5,
   "metadata": {},
   "outputs": [],
   "source": [
    "from datetime import datetime, timedelta\n",
    "import time\n",
    "import pandas as pd\n",
    "import numpy as np\n",
    "import matplotlib.pyplot as plt\n",
    "%matplotlib inline\n",
    "import networkx as nx\n"
   ]
  },
  {
   "cell_type": "markdown",
   "metadata": {},
   "source": [
    "## Data Processing and Mining with Big Query"
   ]
  },
  {
   "cell_type": "code",
   "execution_count": 6,
   "metadata": {},
   "outputs": [],
   "source": [
    "#Creating a credential object from a specific key_path where the credential json file is located\n",
    "from google.cloud import bigquery\n",
    "from google.oauth2 import service_account\n",
    "key_path='../credential/Xpring Dev Sandbox-edb2a98acf17.json'\n",
    "credentials = service_account.Credentials.from_service_account_file(\n",
    "    key_path,\n",
    "    scopes=[\"https://www.googleapis.com/auth/cloud-platform\"],\n",
    ")"
   ]
  },
  {
   "cell_type": "code",
   "execution_count": 7,
   "metadata": {},
   "outputs": [
    {
     "data": {
      "text/plain": [
       "'../credential/Xpring Dev Sandbox-edb2a98acf17.json'"
      ]
     },
     "execution_count": 7,
     "metadata": {},
     "output_type": "execute_result"
    }
   ],
   "source": [
    "key_path"
   ]
  },
  {
   "cell_type": "code",
   "execution_count": 8,
   "metadata": {},
   "outputs": [
    {
     "data": {
      "text/plain": [
       "True"
      ]
     },
     "execution_count": 8,
     "metadata": {},
     "output_type": "execute_result"
    }
   ],
   "source": [
    "#Checking to see if credential file exists\n",
    "import os.path\n",
    "from os import path\n",
    "\n",
    "path.exists(key_path)"
   ]
  },
  {
   "cell_type": "code",
   "execution_count": 9,
   "metadata": {},
   "outputs": [],
   "source": [
    "def gbq_query(query,cred, query_params=None):\n",
    "    \"\"\"\n",
    "    Run a query against Google Big Query, returning a pandas dataframe of the result.\n",
    "\n",
    "    Parameters\n",
    "    ----------\n",
    "    query: str\n",
    "        The query string\n",
    "    cred: obj\n",
    "        Credential class instance\n",
    "    \n",
    "    query_params: list, optional\n",
    "        The query parameters to pass into the query string\n",
    "    \"\"\"\n",
    "    client = bigquery.Client(credentials=cred)\n",
    "    job_config = bigquery.QueryJobConfig()\n",
    "    job_config.query_parameters = query_params\n",
    "    return client.query(query, job_config=job_config).to_dataframe()"
   ]
  },
  {
   "cell_type": "code",
   "execution_count": 10,
   "metadata": {},
   "outputs": [],
   "source": [
    "#Dates that query data will fall between\n",
    "start_date='2019-12-15'\n",
    "end_date='2019-12-27'"
   ]
  },
  {
   "cell_type": "code",
   "execution_count": 11,
   "metadata": {},
   "outputs": [],
   "source": [
    "#Query and query_parameters\n",
    "query = \"\"\"\n",
    "Select \n",
    "  TIMESTAMP(l.CloseTime) as `TimeStamp`,\n",
    "  t.Account,t.Destination,t.Fee,t.TxnSignature,t.AmountXRP,t.LedgerIndex\n",
    "FROM\n",
    "  `xrpledgerdata.fullhistory.transactions`t\n",
    "JOIN\n",
    "  `xrpledgerdata.fullhistory.ledgers` l\n",
    "  on t.LedgerIndex=l.LedgerIndex\n",
    "where t.TransactionResult = \"tesSUCCESS\"\n",
    "AND TxnSignature IS NOT NULL\n",
    "AND Destination IS NOT NULL\n",
    "AND AmountXRP  IS NOT NULL\n",
    "AND TIMESTAMP(l.CloseTime) >=TIMESTAMP(@start_date)\n",
    "AND TIMESTAMP(l.CloseTime) <=TIMESTAMP(@end_date)\n",
    "\n",
    "\n",
    "ORDER BY TimeStamp\n",
    "LIMIT 1000;\n",
    "\"\"\"\n",
    "query_params = [\n",
    "    bigquery.ScalarQueryParameter(\"start_date\", \"STRING\", start_date),\n",
    "    bigquery.ScalarQueryParameter(\"end_date\", \"STRING\", end_date)\n",
    "]\n"
   ]
  },
  {
   "cell_type": "code",
   "execution_count": 9,
   "metadata": {},
   "outputs": [
    {
     "data": {
      "text/html": [
       "<div>\n",
       "<style scoped>\n",
       "    .dataframe tbody tr th:only-of-type {\n",
       "        vertical-align: middle;\n",
       "    }\n",
       "\n",
       "    .dataframe tbody tr th {\n",
       "        vertical-align: top;\n",
       "    }\n",
       "\n",
       "    .dataframe thead th {\n",
       "        text-align: right;\n",
       "    }\n",
       "</style>\n",
       "<table border=\"1\" class=\"dataframe\">\n",
       "  <thead>\n",
       "    <tr style=\"text-align: right;\">\n",
       "      <th></th>\n",
       "      <th>TimeStamp</th>\n",
       "      <th>Account</th>\n",
       "      <th>Destination</th>\n",
       "      <th>Fee</th>\n",
       "      <th>TxnSignature</th>\n",
       "      <th>AmountXRP</th>\n",
       "      <th>LedgerIndex</th>\n",
       "    </tr>\n",
       "  </thead>\n",
       "  <tbody>\n",
       "    <tr>\n",
       "      <th>0</th>\n",
       "      <td>2019-12-15 00:00:00+00:00</td>\n",
       "      <td>rPsmHDMkheWZvbAkTA8A9bVnUdadPn7XBK</td>\n",
       "      <td>rUMhAy8zECaY9u6ntqTAXFu1t8gixCeHka</td>\n",
       "      <td>10</td>\n",
       "      <td>304502210089A1985CB7AF1F667C61405FB4A609F06DEB...</td>\n",
       "      <td>48560300000</td>\n",
       "      <td>52058308</td>\n",
       "    </tr>\n",
       "    <tr>\n",
       "      <th>1</th>\n",
       "      <td>2019-12-15 00:00:01+00:00</td>\n",
       "      <td>rw2ciyaNshpHe7bCHo4bRWq6pqqynnWKQg</td>\n",
       "      <td>rLNaPoKeeBjZe2qs6x52yVPZpZ8td4dc6w</td>\n",
       "      <td>40</td>\n",
       "      <td>3045022100AEF609203571841221F6D13CD5991EE66AAF...</td>\n",
       "      <td>50000083642</td>\n",
       "      <td>52058309</td>\n",
       "    </tr>\n",
       "    <tr>\n",
       "      <th>2</th>\n",
       "      <td>2019-12-15 00:00:01+00:00</td>\n",
       "      <td>rEvoRfi83Hc5gxqpwRtc9jh7Z4C2hECCWY</td>\n",
       "      <td>rnuPTVikw8HKK4hBGCtnq2J2433VYaZPZQ</td>\n",
       "      <td>12</td>\n",
       "      <td>304402203E8C80A7E4F36EEB754BCA9EF3CB2D5B2BFA08...</td>\n",
       "      <td>999999</td>\n",
       "      <td>52058309</td>\n",
       "    </tr>\n",
       "    <tr>\n",
       "      <th>3</th>\n",
       "      <td>2019-12-15 00:00:10+00:00</td>\n",
       "      <td>ryBANkk28Mj71jRKAkt13U1X9ubztsGWZ</td>\n",
       "      <td>rwU8rAiE2eyEPz3sikfbHuqCuiAtdXqa2v</td>\n",
       "      <td>7707</td>\n",
       "      <td>304402203D711CFEB876FFC22375F0C8C3CC3B1DB8952D...</td>\n",
       "      <td>15728776000</td>\n",
       "      <td>52058310</td>\n",
       "    </tr>\n",
       "    <tr>\n",
       "      <th>4</th>\n",
       "      <td>2019-12-15 00:00:11+00:00</td>\n",
       "      <td>rLNaPoKeeBjZe2qs6x52yVPZpZ8td4dc6w</td>\n",
       "      <td>rwpMvfxoodXggJ1g4qv6MWAPQqWDwQyHUW</td>\n",
       "      <td>40</td>\n",
       "      <td>3045022100F4BEBE96EF6610512BD07D789C1E2629342F...</td>\n",
       "      <td>1162250116</td>\n",
       "      <td>52058311</td>\n",
       "    </tr>\n",
       "    <tr>\n",
       "      <th>...</th>\n",
       "      <td>...</td>\n",
       "      <td>...</td>\n",
       "      <td>...</td>\n",
       "      <td>...</td>\n",
       "      <td>...</td>\n",
       "      <td>...</td>\n",
       "      <td>...</td>\n",
       "    </tr>\n",
       "    <tr>\n",
       "      <th>995</th>\n",
       "      <td>2019-12-15 01:20:40+00:00</td>\n",
       "      <td>rJb5KsHsDHF1YS5B5DU6QCkH5NsPaKQTcy</td>\n",
       "      <td>rU7xJs7QmjbiyxpEozNYUFQxaRD5kueY7z</td>\n",
       "      <td>200000</td>\n",
       "      <td>3044022042E953DD34BC42DFCB67071FF8A5572F1A9307...</td>\n",
       "      <td>96790306</td>\n",
       "      <td>52059536</td>\n",
       "    </tr>\n",
       "    <tr>\n",
       "      <th>996</th>\n",
       "      <td>2019-12-15 01:20:40+00:00</td>\n",
       "      <td>rJb5KsHsDHF1YS5B5DU6QCkH5NsPaKQTcy</td>\n",
       "      <td>rMdG3ju8pgyVh29ELPWaDuA74CpWW6Fxns</td>\n",
       "      <td>200000</td>\n",
       "      <td>3044022015EE58FA708018EF55241EDD23281D95989382...</td>\n",
       "      <td>82766900</td>\n",
       "      <td>52059536</td>\n",
       "    </tr>\n",
       "    <tr>\n",
       "      <th>997</th>\n",
       "      <td>2019-12-15 01:20:40+00:00</td>\n",
       "      <td>rJb5KsHsDHF1YS5B5DU6QCkH5NsPaKQTcy</td>\n",
       "      <td>rDsbeomae4FXwgQTJp9Rs64Qg9vDiTCdBv</td>\n",
       "      <td>200000</td>\n",
       "      <td>3044022043BB41D7229D7433B594C3DD866F46BC6FA951...</td>\n",
       "      <td>4636750000</td>\n",
       "      <td>52059536</td>\n",
       "    </tr>\n",
       "    <tr>\n",
       "      <th>998</th>\n",
       "      <td>2019-12-15 01:20:40+00:00</td>\n",
       "      <td>rJb5KsHsDHF1YS5B5DU6QCkH5NsPaKQTcy</td>\n",
       "      <td>rQrQMKhcw3WnptGeWiYSwX5Tz3otyJqPnq</td>\n",
       "      <td>200000</td>\n",
       "      <td>3044022019F15D308AE593BF1EE0E5D7DC89924E605CD1...</td>\n",
       "      <td>82966700</td>\n",
       "      <td>52059536</td>\n",
       "    </tr>\n",
       "    <tr>\n",
       "      <th>999</th>\n",
       "      <td>2019-12-15 01:20:51+00:00</td>\n",
       "      <td>rhKrvXY8zRvVyDLT4nfXB86HyhqQyvcr4c</td>\n",
       "      <td>rU2mEJSLqBRkYLVTv55rFTgQajkLTnT6mA</td>\n",
       "      <td>12</td>\n",
       "      <td>3045022100E8B5EB1911BE858CEC9EF5F4DFB91D13C32D...</td>\n",
       "      <td>4599500000</td>\n",
       "      <td>52059539</td>\n",
       "    </tr>\n",
       "  </tbody>\n",
       "</table>\n",
       "<p>1000 rows × 7 columns</p>\n",
       "</div>"
      ],
      "text/plain": [
       "                    TimeStamp                             Account  \\\n",
       "0   2019-12-15 00:00:00+00:00  rPsmHDMkheWZvbAkTA8A9bVnUdadPn7XBK   \n",
       "1   2019-12-15 00:00:01+00:00  rw2ciyaNshpHe7bCHo4bRWq6pqqynnWKQg   \n",
       "2   2019-12-15 00:00:01+00:00  rEvoRfi83Hc5gxqpwRtc9jh7Z4C2hECCWY   \n",
       "3   2019-12-15 00:00:10+00:00   ryBANkk28Mj71jRKAkt13U1X9ubztsGWZ   \n",
       "4   2019-12-15 00:00:11+00:00  rLNaPoKeeBjZe2qs6x52yVPZpZ8td4dc6w   \n",
       "..                        ...                                 ...   \n",
       "995 2019-12-15 01:20:40+00:00  rJb5KsHsDHF1YS5B5DU6QCkH5NsPaKQTcy   \n",
       "996 2019-12-15 01:20:40+00:00  rJb5KsHsDHF1YS5B5DU6QCkH5NsPaKQTcy   \n",
       "997 2019-12-15 01:20:40+00:00  rJb5KsHsDHF1YS5B5DU6QCkH5NsPaKQTcy   \n",
       "998 2019-12-15 01:20:40+00:00  rJb5KsHsDHF1YS5B5DU6QCkH5NsPaKQTcy   \n",
       "999 2019-12-15 01:20:51+00:00  rhKrvXY8zRvVyDLT4nfXB86HyhqQyvcr4c   \n",
       "\n",
       "                            Destination     Fee  \\\n",
       "0    rUMhAy8zECaY9u6ntqTAXFu1t8gixCeHka      10   \n",
       "1    rLNaPoKeeBjZe2qs6x52yVPZpZ8td4dc6w      40   \n",
       "2    rnuPTVikw8HKK4hBGCtnq2J2433VYaZPZQ      12   \n",
       "3    rwU8rAiE2eyEPz3sikfbHuqCuiAtdXqa2v    7707   \n",
       "4    rwpMvfxoodXggJ1g4qv6MWAPQqWDwQyHUW      40   \n",
       "..                                  ...     ...   \n",
       "995  rU7xJs7QmjbiyxpEozNYUFQxaRD5kueY7z  200000   \n",
       "996  rMdG3ju8pgyVh29ELPWaDuA74CpWW6Fxns  200000   \n",
       "997  rDsbeomae4FXwgQTJp9Rs64Qg9vDiTCdBv  200000   \n",
       "998  rQrQMKhcw3WnptGeWiYSwX5Tz3otyJqPnq  200000   \n",
       "999  rU2mEJSLqBRkYLVTv55rFTgQajkLTnT6mA      12   \n",
       "\n",
       "                                          TxnSignature    AmountXRP  \\\n",
       "0    304502210089A1985CB7AF1F667C61405FB4A609F06DEB...  48560300000   \n",
       "1    3045022100AEF609203571841221F6D13CD5991EE66AAF...  50000083642   \n",
       "2    304402203E8C80A7E4F36EEB754BCA9EF3CB2D5B2BFA08...       999999   \n",
       "3    304402203D711CFEB876FFC22375F0C8C3CC3B1DB8952D...  15728776000   \n",
       "4    3045022100F4BEBE96EF6610512BD07D789C1E2629342F...   1162250116   \n",
       "..                                                 ...          ...   \n",
       "995  3044022042E953DD34BC42DFCB67071FF8A5572F1A9307...     96790306   \n",
       "996  3044022015EE58FA708018EF55241EDD23281D95989382...     82766900   \n",
       "997  3044022043BB41D7229D7433B594C3DD866F46BC6FA951...   4636750000   \n",
       "998  3044022019F15D308AE593BF1EE0E5D7DC89924E605CD1...     82966700   \n",
       "999  3045022100E8B5EB1911BE858CEC9EF5F4DFB91D13C32D...   4599500000   \n",
       "\n",
       "     LedgerIndex  \n",
       "0       52058308  \n",
       "1       52058309  \n",
       "2       52058309  \n",
       "3       52058310  \n",
       "4       52058311  \n",
       "..           ...  \n",
       "995     52059536  \n",
       "996     52059536  \n",
       "997     52059536  \n",
       "998     52059536  \n",
       "999     52059539  \n",
       "\n",
       "[1000 rows x 7 columns]"
      ]
     },
     "execution_count": 9,
     "metadata": {},
     "output_type": "execute_result"
    }
   ],
   "source": [
    "xrp = gbq_query(query,credentials,query_params)\n",
    "xrp"
   ]
  },
  {
   "cell_type": "code",
   "execution_count": 10,
   "metadata": {},
   "outputs": [],
   "source": [
    "def datetotime(col):\n",
    "    #returns a list of datetime objects\n",
    "    #takes in a df column\n",
    "    x=[]\n",
    "    for entry in col:\n",
    "        x.append(datetime.strptime(entry,'%Y-%m-%d %H:%M:%S'))\n",
    "    return x"
   ]
  },
  {
   "cell_type": "code",
   "execution_count": 11,
   "metadata": {},
   "outputs": [],
   "source": [
    "#Replaces xrp timestamp list with a list of strings\n",
    "xrp['TimeStamp']= [str(x)[:19] for x in xrp['TimeStamp']]"
   ]
  },
  {
   "cell_type": "code",
   "execution_count": 12,
   "metadata": {
    "scrolled": true
   },
   "outputs": [
    {
     "data": {
      "text/plain": [
       "'2019-12-15 00:00:01'"
      ]
     },
     "execution_count": 12,
     "metadata": {},
     "output_type": "execute_result"
    }
   ],
   "source": [
    "xrp['TimeStamp'][1]"
   ]
  },
  {
   "cell_type": "code",
   "execution_count": 13,
   "metadata": {},
   "outputs": [],
   "source": [
    "#Converts strings into datetime objects using strptime\n",
    "xrp['TimeStamp']=datetotime(xrp['TimeStamp'])"
   ]
  },
  {
   "cell_type": "code",
   "execution_count": 14,
   "metadata": {},
   "outputs": [
    {
     "data": {
      "text/plain": [
       "52058308"
      ]
     },
     "execution_count": 14,
     "metadata": {},
     "output_type": "execute_result"
    }
   ],
   "source": [
    "xrp['LedgerIndex'][0]"
   ]
  },
  {
   "cell_type": "code",
   "execution_count": 15,
   "metadata": {},
   "outputs": [
    {
     "data": {
      "text/plain": [
       "TimeStamp                                     2019-12-15 00:00:11\n",
       "Account                        rLNaPoKeeBjZe2qs6x52yVPZpZ8td4dc6w\n",
       "Destination                    rwpMvfxoodXggJ1g4qv6MWAPQqWDwQyHUW\n",
       "Fee                                                            40\n",
       "TxnSignature    3045022100F4BEBE96EF6610512BD07D789C1E2629342F...\n",
       "AmountXRP                                              1162250116\n",
       "LedgerIndex                                              52058311\n",
       "Name: 4, dtype: object"
      ]
     },
     "execution_count": 15,
     "metadata": {},
     "output_type": "execute_result"
    }
   ],
   "source": [
    "xrp.loc(0)[4]"
   ]
  },
  {
   "cell_type": "code",
   "execution_count": null,
   "metadata": {},
   "outputs": [],
   "source": []
  },
  {
   "cell_type": "markdown",
   "metadata": {},
   "source": [
    "## CloseTime Distribution"
   ]
  },
  {
   "cell_type": "code",
   "execution_count": 16,
   "metadata": {},
   "outputs": [],
   "source": [
    "start_date='2019-12-15'\n",
    "end_date='2019-12-27'"
   ]
  },
  {
   "cell_type": "code",
   "execution_count": 17,
   "metadata": {},
   "outputs": [],
   "source": [
    "query2 = \"\"\"\n",
    "Select *, TIMESTAMP(CloseTime) as `TimeStamp`\n",
    "From\n",
    "xrpledgerdata.fullhistory.ledgers\n",
    "\n",
    "Where TIMESTAMP(CloseTime) >=TIMESTAMP(@start_date)\n",
    "AND TIMESTAMP(CloseTime) <=TIMESTAMP(@end_date)\n",
    "Order by LedgerIndex\n",
    "LIMIT 100000\n",
    "\n",
    "\"\"\"\n",
    "query_params2 = [\n",
    "    bigquery.ScalarQueryParameter(\"start_date\", \"STRING\", start_date),\n",
    "    bigquery.ScalarQueryParameter(\"end_date\", \"STRING\", end_date)\n",
    "]\n"
   ]
  },
  {
   "cell_type": "code",
   "execution_count": 18,
   "metadata": {
    "scrolled": false
   },
   "outputs": [
    {
     "data": {
      "text/html": [
       "<div>\n",
       "<style scoped>\n",
       "    .dataframe tbody tr th:only-of-type {\n",
       "        vertical-align: middle;\n",
       "    }\n",
       "\n",
       "    .dataframe tbody tr th {\n",
       "        vertical-align: top;\n",
       "    }\n",
       "\n",
       "    .dataframe thead th {\n",
       "        text-align: right;\n",
       "    }\n",
       "</style>\n",
       "<table border=\"1\" class=\"dataframe\">\n",
       "  <thead>\n",
       "    <tr style=\"text-align: right;\">\n",
       "      <th></th>\n",
       "      <th>LedgerIndex</th>\n",
       "      <th>hash</th>\n",
       "      <th>CloseTime</th>\n",
       "      <th>CloseTimeTimestamp</th>\n",
       "      <th>CloseTimeHuman</th>\n",
       "      <th>TotalCoins</th>\n",
       "      <th>ParentHash</th>\n",
       "      <th>AccountHash</th>\n",
       "      <th>TransactionHash</th>\n",
       "      <th>TimeStamp</th>\n",
       "    </tr>\n",
       "  </thead>\n",
       "  <tbody>\n",
       "    <tr>\n",
       "      <th>0</th>\n",
       "      <td>52058308</td>\n",
       "      <td>9A1BFC911AB308782606348E63986DAFA8EE111689702B...</td>\n",
       "      <td>2019-12-15 00:00:00</td>\n",
       "      <td>629686800</td>\n",
       "      <td>2019-Dec-15 01:00:00.000000000</td>\n",
       "      <td>99991147585829680</td>\n",
       "      <td>2C653C7E116AEDD3DC0FEDB98F400D5DA11D07DCAB6298...</td>\n",
       "      <td>7B1F69E60321EFA03CE917CBFC119B375612315BF93F03...</td>\n",
       "      <td>DA2719A56038A9B5603E38D35AD4B6C3FA7119272E41C3...</td>\n",
       "      <td>2019-12-15 00:00:00+00:00</td>\n",
       "    </tr>\n",
       "    <tr>\n",
       "      <th>1</th>\n",
       "      <td>52058309</td>\n",
       "      <td>5D9B277B92014EA116EF15935670F3BFAE76C93DBE17BC...</td>\n",
       "      <td>2019-12-15 00:00:01</td>\n",
       "      <td>629686801</td>\n",
       "      <td>2019-Dec-15 01:00:01.000000000</td>\n",
       "      <td>99991147585735540</td>\n",
       "      <td>9A1BFC911AB308782606348E63986DAFA8EE111689702B...</td>\n",
       "      <td>3BC6B3D00C4D770A65CC7903241570EC3DBEC44BD874AD...</td>\n",
       "      <td>58821251ACF2C4D886B26BBB7BF4197283D748D2E3C58F...</td>\n",
       "      <td>2019-12-15 00:00:01+00:00</td>\n",
       "    </tr>\n",
       "    <tr>\n",
       "      <th>2</th>\n",
       "      <td>52058310</td>\n",
       "      <td>43A871FE577FC1E710A048E4E7381A0F3393D244672CE2...</td>\n",
       "      <td>2019-12-15 00:00:10</td>\n",
       "      <td>629686810</td>\n",
       "      <td>2019-Dec-15 01:00:10.000000000</td>\n",
       "      <td>99991147585531540</td>\n",
       "      <td>5D9B277B92014EA116EF15935670F3BFAE76C93DBE17BC...</td>\n",
       "      <td>A532CED21EAA41AC33B21597FDAD08F0B822E1388C3D00...</td>\n",
       "      <td>A647B66ACEAD89968D94B95A305E6B48A0E751115BBCE3...</td>\n",
       "      <td>2019-12-15 00:00:10+00:00</td>\n",
       "    </tr>\n",
       "    <tr>\n",
       "      <th>3</th>\n",
       "      <td>52058311</td>\n",
       "      <td>E8171001FCBC6206D56F73921715F936500EEF6B3A480C...</td>\n",
       "      <td>2019-12-15 00:00:11</td>\n",
       "      <td>629686811</td>\n",
       "      <td>2019-Dec-15 01:00:11.000000000</td>\n",
       "      <td>99991147585459420</td>\n",
       "      <td>43A871FE577FC1E710A048E4E7381A0F3393D244672CE2...</td>\n",
       "      <td>6C88AAB4CB8B19A7B96819F73D4C6E05CF8AD40B1A1F6D...</td>\n",
       "      <td>C2AE4B34ABBF387EBF4105686F0AE9BC77D01058397677...</td>\n",
       "      <td>2019-12-15 00:00:11+00:00</td>\n",
       "    </tr>\n",
       "    <tr>\n",
       "      <th>4</th>\n",
       "      <td>52058312</td>\n",
       "      <td>B59E4CABDDD6A5147360FAF018608671DD8A417BD5BFB2...</td>\n",
       "      <td>2019-12-15 00:00:12</td>\n",
       "      <td>629686812</td>\n",
       "      <td>2019-Dec-15 01:00:12.000000000</td>\n",
       "      <td>99991147585458560</td>\n",
       "      <td>E8171001FCBC6206D56F73921715F936500EEF6B3A480C...</td>\n",
       "      <td>302D92CBC5C5CB4240A101B682CC62F3C0A4C708295ECD...</td>\n",
       "      <td>8070F8A573C330088C023591543FA98E49219A6CCE3928...</td>\n",
       "      <td>2019-12-15 00:00:12+00:00</td>\n",
       "    </tr>\n",
       "    <tr>\n",
       "      <th>...</th>\n",
       "      <td>...</td>\n",
       "      <td>...</td>\n",
       "      <td>...</td>\n",
       "      <td>...</td>\n",
       "      <td>...</td>\n",
       "      <td>...</td>\n",
       "      <td>...</td>\n",
       "      <td>...</td>\n",
       "      <td>...</td>\n",
       "      <td>...</td>\n",
       "    </tr>\n",
       "    <tr>\n",
       "      <th>99995</th>\n",
       "      <td>52158303</td>\n",
       "      <td>4826741EBB2F579DFD6A5409C5BF15CA8CE786537E86FB...</td>\n",
       "      <td>2019-12-19 13:36:20</td>\n",
       "      <td>630081380</td>\n",
       "      <td>2019-Dec-19 14:36:20.000000000</td>\n",
       "      <td>99991140203170610</td>\n",
       "      <td>7E4CF63C10E921503762863B4944F60C06B47CA813F970...</td>\n",
       "      <td>92C5EA812E709C326B162AD72566FEF1F7259997034DB4...</td>\n",
       "      <td>5D3B05FF59204E01AB84E41CC49ECC054C4701A19860FF...</td>\n",
       "      <td>2019-12-19 13:36:20+00:00</td>\n",
       "    </tr>\n",
       "    <tr>\n",
       "      <th>99996</th>\n",
       "      <td>52158304</td>\n",
       "      <td>BF0400FA4FF9475F3BAC6B9191E4E0A0F7138357BE195E...</td>\n",
       "      <td>2019-12-19 13:36:21</td>\n",
       "      <td>630081381</td>\n",
       "      <td>2019-Dec-19 14:36:21.000000000</td>\n",
       "      <td>99991140203168770</td>\n",
       "      <td>4826741EBB2F579DFD6A5409C5BF15CA8CE786537E86FB...</td>\n",
       "      <td>25E04AC8AFAC48C82E788B2C0C0C80F4D2DD140BA3E2A0...</td>\n",
       "      <td>0AECC03C85A1CCBBB53B245FBEDD7BBEFC25B0AB8FC017...</td>\n",
       "      <td>2019-12-19 13:36:21+00:00</td>\n",
       "    </tr>\n",
       "    <tr>\n",
       "      <th>99997</th>\n",
       "      <td>52158305</td>\n",
       "      <td>EE4466E1D2B4D5CBBFA56353CF54BEEF742C85FF2BCD88...</td>\n",
       "      <td>2019-12-19 13:36:30</td>\n",
       "      <td>630081390</td>\n",
       "      <td>2019-Dec-19 14:36:30.000000000</td>\n",
       "      <td>99991140203166700</td>\n",
       "      <td>BF0400FA4FF9475F3BAC6B9191E4E0A0F7138357BE195E...</td>\n",
       "      <td>BD25E1187788B78A864D04A6137816EE3593D854897DA1...</td>\n",
       "      <td>9286D9539699F33197174375FC9F0AB55FF33960D2285F...</td>\n",
       "      <td>2019-12-19 13:36:30+00:00</td>\n",
       "    </tr>\n",
       "    <tr>\n",
       "      <th>99998</th>\n",
       "      <td>52158306</td>\n",
       "      <td>E83A53CFDBAF54BFD8F60A3A4BCC07ACABD594ED8F837F...</td>\n",
       "      <td>2019-12-19 13:36:31</td>\n",
       "      <td>630081391</td>\n",
       "      <td>2019-Dec-19 14:36:31.000000000</td>\n",
       "      <td>99991140203165010</td>\n",
       "      <td>EE4466E1D2B4D5CBBFA56353CF54BEEF742C85FF2BCD88...</td>\n",
       "      <td>1E23BC1F9271E5C5CC9CC63C35DD2CDE6320AE86CEF4A8...</td>\n",
       "      <td>C698333CA77428CBD3BBC68835DA32FFADD9D3F61C5AE9...</td>\n",
       "      <td>2019-12-19 13:36:31+00:00</td>\n",
       "    </tr>\n",
       "    <tr>\n",
       "      <th>99999</th>\n",
       "      <td>52158307</td>\n",
       "      <td>8F08395AB129B8A3985F944D91D06C58AA3AB0ADAA3DC6...</td>\n",
       "      <td>2019-12-19 13:36:32</td>\n",
       "      <td>630081392</td>\n",
       "      <td>2019-Dec-19 14:36:32.000000000</td>\n",
       "      <td>99991140203163420</td>\n",
       "      <td>E83A53CFDBAF54BFD8F60A3A4BCC07ACABD594ED8F837F...</td>\n",
       "      <td>46D698DBA81D5A3DC3E12E89B01E1C206CB995331E83A3...</td>\n",
       "      <td>91F4D1EEB00946A61CF43D489B96C1717E2CBA8056065B...</td>\n",
       "      <td>2019-12-19 13:36:32+00:00</td>\n",
       "    </tr>\n",
       "  </tbody>\n",
       "</table>\n",
       "<p>100000 rows × 10 columns</p>\n",
       "</div>"
      ],
      "text/plain": [
       "       LedgerIndex                                               hash  \\\n",
       "0         52058308  9A1BFC911AB308782606348E63986DAFA8EE111689702B...   \n",
       "1         52058309  5D9B277B92014EA116EF15935670F3BFAE76C93DBE17BC...   \n",
       "2         52058310  43A871FE577FC1E710A048E4E7381A0F3393D244672CE2...   \n",
       "3         52058311  E8171001FCBC6206D56F73921715F936500EEF6B3A480C...   \n",
       "4         52058312  B59E4CABDDD6A5147360FAF018608671DD8A417BD5BFB2...   \n",
       "...            ...                                                ...   \n",
       "99995     52158303  4826741EBB2F579DFD6A5409C5BF15CA8CE786537E86FB...   \n",
       "99996     52158304  BF0400FA4FF9475F3BAC6B9191E4E0A0F7138357BE195E...   \n",
       "99997     52158305  EE4466E1D2B4D5CBBFA56353CF54BEEF742C85FF2BCD88...   \n",
       "99998     52158306  E83A53CFDBAF54BFD8F60A3A4BCC07ACABD594ED8F837F...   \n",
       "99999     52158307  8F08395AB129B8A3985F944D91D06C58AA3AB0ADAA3DC6...   \n",
       "\n",
       "                CloseTime  CloseTimeTimestamp                  CloseTimeHuman  \\\n",
       "0     2019-12-15 00:00:00           629686800  2019-Dec-15 01:00:00.000000000   \n",
       "1     2019-12-15 00:00:01           629686801  2019-Dec-15 01:00:01.000000000   \n",
       "2     2019-12-15 00:00:10           629686810  2019-Dec-15 01:00:10.000000000   \n",
       "3     2019-12-15 00:00:11           629686811  2019-Dec-15 01:00:11.000000000   \n",
       "4     2019-12-15 00:00:12           629686812  2019-Dec-15 01:00:12.000000000   \n",
       "...                   ...                 ...                             ...   \n",
       "99995 2019-12-19 13:36:20           630081380  2019-Dec-19 14:36:20.000000000   \n",
       "99996 2019-12-19 13:36:21           630081381  2019-Dec-19 14:36:21.000000000   \n",
       "99997 2019-12-19 13:36:30           630081390  2019-Dec-19 14:36:30.000000000   \n",
       "99998 2019-12-19 13:36:31           630081391  2019-Dec-19 14:36:31.000000000   \n",
       "99999 2019-12-19 13:36:32           630081392  2019-Dec-19 14:36:32.000000000   \n",
       "\n",
       "              TotalCoins                                         ParentHash  \\\n",
       "0      99991147585829680  2C653C7E116AEDD3DC0FEDB98F400D5DA11D07DCAB6298...   \n",
       "1      99991147585735540  9A1BFC911AB308782606348E63986DAFA8EE111689702B...   \n",
       "2      99991147585531540  5D9B277B92014EA116EF15935670F3BFAE76C93DBE17BC...   \n",
       "3      99991147585459420  43A871FE577FC1E710A048E4E7381A0F3393D244672CE2...   \n",
       "4      99991147585458560  E8171001FCBC6206D56F73921715F936500EEF6B3A480C...   \n",
       "...                  ...                                                ...   \n",
       "99995  99991140203170610  7E4CF63C10E921503762863B4944F60C06B47CA813F970...   \n",
       "99996  99991140203168770  4826741EBB2F579DFD6A5409C5BF15CA8CE786537E86FB...   \n",
       "99997  99991140203166700  BF0400FA4FF9475F3BAC6B9191E4E0A0F7138357BE195E...   \n",
       "99998  99991140203165010  EE4466E1D2B4D5CBBFA56353CF54BEEF742C85FF2BCD88...   \n",
       "99999  99991140203163420  E83A53CFDBAF54BFD8F60A3A4BCC07ACABD594ED8F837F...   \n",
       "\n",
       "                                             AccountHash  \\\n",
       "0      7B1F69E60321EFA03CE917CBFC119B375612315BF93F03...   \n",
       "1      3BC6B3D00C4D770A65CC7903241570EC3DBEC44BD874AD...   \n",
       "2      A532CED21EAA41AC33B21597FDAD08F0B822E1388C3D00...   \n",
       "3      6C88AAB4CB8B19A7B96819F73D4C6E05CF8AD40B1A1F6D...   \n",
       "4      302D92CBC5C5CB4240A101B682CC62F3C0A4C708295ECD...   \n",
       "...                                                  ...   \n",
       "99995  92C5EA812E709C326B162AD72566FEF1F7259997034DB4...   \n",
       "99996  25E04AC8AFAC48C82E788B2C0C0C80F4D2DD140BA3E2A0...   \n",
       "99997  BD25E1187788B78A864D04A6137816EE3593D854897DA1...   \n",
       "99998  1E23BC1F9271E5C5CC9CC63C35DD2CDE6320AE86CEF4A8...   \n",
       "99999  46D698DBA81D5A3DC3E12E89B01E1C206CB995331E83A3...   \n",
       "\n",
       "                                         TransactionHash  \\\n",
       "0      DA2719A56038A9B5603E38D35AD4B6C3FA7119272E41C3...   \n",
       "1      58821251ACF2C4D886B26BBB7BF4197283D748D2E3C58F...   \n",
       "2      A647B66ACEAD89968D94B95A305E6B48A0E751115BBCE3...   \n",
       "3      C2AE4B34ABBF387EBF4105686F0AE9BC77D01058397677...   \n",
       "4      8070F8A573C330088C023591543FA98E49219A6CCE3928...   \n",
       "...                                                  ...   \n",
       "99995  5D3B05FF59204E01AB84E41CC49ECC054C4701A19860FF...   \n",
       "99996  0AECC03C85A1CCBBB53B245FBEDD7BBEFC25B0AB8FC017...   \n",
       "99997  9286D9539699F33197174375FC9F0AB55FF33960D2285F...   \n",
       "99998  C698333CA77428CBD3BBC68835DA32FFADD9D3F61C5AE9...   \n",
       "99999  91F4D1EEB00946A61CF43D489B96C1717E2CBA8056065B...   \n",
       "\n",
       "                      TimeStamp  \n",
       "0     2019-12-15 00:00:00+00:00  \n",
       "1     2019-12-15 00:00:01+00:00  \n",
       "2     2019-12-15 00:00:10+00:00  \n",
       "3     2019-12-15 00:00:11+00:00  \n",
       "4     2019-12-15 00:00:12+00:00  \n",
       "...                         ...  \n",
       "99995 2019-12-19 13:36:20+00:00  \n",
       "99996 2019-12-19 13:36:21+00:00  \n",
       "99997 2019-12-19 13:36:30+00:00  \n",
       "99998 2019-12-19 13:36:31+00:00  \n",
       "99999 2019-12-19 13:36:32+00:00  \n",
       "\n",
       "[100000 rows x 10 columns]"
      ]
     },
     "execution_count": 18,
     "metadata": {},
     "output_type": "execute_result"
    }
   ],
   "source": [
    "ledgerdf = gbq_query(query2,credentials,query_params2)\n",
    "ledgerdf"
   ]
  },
  {
   "cell_type": "code",
   "execution_count": 19,
   "metadata": {},
   "outputs": [],
   "source": [
    "def removekey(d, key):\n",
    "    r = dict(d)\n",
    "    del r[key]\n",
    "    return r"
   ]
  },
  {
   "cell_type": "code",
   "execution_count": 20,
   "metadata": {},
   "outputs": [],
   "source": [
    "def plotclosetimedist(data):\n",
    "    \"\"\"\n",
    "    Plot the distribution of closetime based on a ledger dataframe passed\n",
    "\n",
    "    Parameters\n",
    "    ----------\n",
    "    data: dataframe\n",
    "        The dataframe of ledgers that is being analyzed\n",
    "    \"\"\"\n",
    "    UniqueLedgerIndex=np.unique(data['LedgerIndex'])\n",
    "    closetimezeros=[0]*(len(UniqueLedgerIndex)-1)\n",
    "    dicCloseTime = {k:v for k,v in zip(UniqueLedgerIndex,closetimezeros)}\n",
    "    \n",
    "    curledger=data['LedgerIndex'][0]\n",
    "    curtime=data['TimeStamp'][0]\n",
    "    for index,row in data.iterrows():\n",
    "        if row['LedgerIndex']!=curledger:\n",
    "            dicCloseTime[row['LedgerIndex']]=(row['TimeStamp']-curtime).total_seconds()\n",
    "            curledger=row['LedgerIndex']\n",
    "            curtime=row['TimeStamp']\n",
    "        else:\n",
    "            None\n",
    "    foo=removekey(dicCloseTime,data['LedgerIndex'][0])\n",
    "    plt.hist(foo.values(), color='g')\n",
    "    plt.title('Distribution of CloseTime')\n",
    "    plt.xlabel('CloseTime (seconds)')\n",
    "    plt.ylabel('Frequency')\n",
    "\n",
    "    plt.show()\n",
    "\n",
    "        \n",
    "        \n",
    "    "
   ]
  },
  {
   "cell_type": "code",
   "execution_count": 21,
   "metadata": {},
   "outputs": [
    {
     "data": {
      "image/png": "[encoded data removed]",
      "text/plain": [
       "<Figure size 432x288 with 1 Axes>"
      ]
     },
     "metadata": {
      "needs_background": "light"
     },
     "output_type": "display_data"
    }
   ],
   "source": [
    "plotclosetimedist(ledgerdf)"
   ]
  },
  {
   "cell_type": "markdown",
   "metadata": {},
   "source": [
    "## Calculating Sliding Window Account Balances"
   ]
  },
  {
   "cell_type": "code",
   "execution_count": 22,
   "metadata": {},
   "outputs": [],
   "source": [
    "#Creating a merged a numpy array of unique account and destination hashes\n",
    "UniqueAccount=np.unique(xrp['Account'])\n",
    "UniqueDestination=np.unique(xrp['Destination'])\n",
    "UniqueHash=np.unique(np.concatenate([UniqueDestination, UniqueAccount]))"
   ]
  },
  {
   "cell_type": "code",
   "execution_count": 23,
   "metadata": {},
   "outputs": [],
   "source": [
    "#Creating a dictionary with account hashes as keys and account balances initialized at 0 as the values\n",
    "#The value is an array of length 24 for each increment of time window that will be computed ()\n",
    "UniqueHashList=UniqueHash.tolist()\n",
    "listofzeros = [[0] *24 ]*len(UniqueHashList)\n",
    "dicAccBal = {k:v for k,v in zip(UniqueHashList,listofzeros)}\n",
    "\n"
   ]
  },
  {
   "cell_type": "code",
   "execution_count": 24,
   "metadata": {
    "scrolled": true
   },
   "outputs": [
    {
     "ename": "IndexError",
     "evalue": "list index out of range",
     "output_type": "error",
     "traceback": [
      "\u001b[0;31m---------------------------------------------------------------------------\u001b[0m",
      "\u001b[0;31mIndexError\u001b[0m                                Traceback (most recent call last)",
      "\u001b[0;32m<ipython-input-24-4c6ae4791832>\u001b[0m in \u001b[0;36m<module>\u001b[0;34m\u001b[0m\n\u001b[1;32m     10\u001b[0m             \u001b[0;32mif\u001b[0m \u001b[0;34m(\u001b[0m\u001b[0mrow\u001b[0m\u001b[0;34m[\u001b[0m\u001b[0;34m'TimeStamp'\u001b[0m\u001b[0;34m]\u001b[0m \u001b[0;34m<\u001b[0m \u001b[0mendtime\u001b[0m\u001b[0;34m)\u001b[0m \u001b[0;34m&\u001b[0m \u001b[0;34m(\u001b[0m\u001b[0mrow\u001b[0m\u001b[0;34m[\u001b[0m\u001b[0;34m'TimeStamp'\u001b[0m\u001b[0;34m]\u001b[0m \u001b[0;34m>\u001b[0m \u001b[0mstarttime\u001b[0m\u001b[0;34m)\u001b[0m\u001b[0;34m:\u001b[0m\u001b[0;34m\u001b[0m\u001b[0m\n\u001b[1;32m     11\u001b[0m                 \u001b[0;31m#Adding account balances to respective dictionary balance\u001b[0m\u001b[0;34m\u001b[0m\u001b[0;34m\u001b[0m\u001b[0m\n\u001b[0;32m---> 12\u001b[0;31m                 \u001b[0mdicAccBal\u001b[0m\u001b[0;34m[\u001b[0m\u001b[0mrow\u001b[0m\u001b[0;34m[\u001b[0m\u001b[0;34m'Account'\u001b[0m\u001b[0;34m]\u001b[0m\u001b[0;34m]\u001b[0m\u001b[0;34m[\u001b[0m\u001b[0mi\u001b[0m\u001b[0;34m]\u001b[0m \u001b[0;34m+=\u001b[0m \u001b[0;34m(\u001b[0m\u001b[0;34m-\u001b[0m\u001b[0;36m1\u001b[0m\u001b[0;34m)\u001b[0m \u001b[0;34m*\u001b[0m \u001b[0;34m(\u001b[0m\u001b[0mrow\u001b[0m\u001b[0;34m[\u001b[0m\u001b[0;34m'AmountXRP'\u001b[0m\u001b[0;34m]\u001b[0m\u001b[0;34m)\u001b[0m\u001b[0;34m\u001b[0m\u001b[0m\n\u001b[0m\u001b[1;32m     13\u001b[0m                 \u001b[0mdicAccBal\u001b[0m\u001b[0;34m[\u001b[0m\u001b[0mrow\u001b[0m\u001b[0;34m[\u001b[0m\u001b[0;34m'Destination'\u001b[0m\u001b[0;34m]\u001b[0m\u001b[0;34m]\u001b[0m\u001b[0;34m[\u001b[0m\u001b[0mi\u001b[0m\u001b[0;34m]\u001b[0m \u001b[0;34m+=\u001b[0m \u001b[0;34m(\u001b[0m\u001b[0;36m1\u001b[0m\u001b[0;34m)\u001b[0m \u001b[0;34m*\u001b[0m \u001b[0;34m(\u001b[0m\u001b[0mrow\u001b[0m\u001b[0;34m[\u001b[0m\u001b[0;34m'AmountXRP'\u001b[0m\u001b[0;34m]\u001b[0m\u001b[0;34m)\u001b[0m\u001b[0;34m\u001b[0m\u001b[0m\n",
      "\u001b[0;31mIndexError\u001b[0m: list index out of range"
     ]
    }
   ],
   "source": [
    "#for each unique account hash\n",
    "for each in UniqueHashList:\n",
    "    #looking at 1 hour time windows from 0-23 hours from startime (which is the first rows time, currently static)\n",
    "    for i in range(1,25):\n",
    "        starttime = xrp['TimeStamp'][0]\n",
    "        endtime = timedelta(hours = i+1 ) + starttime\n",
    "        #iterate through each transaction\n",
    "        for index, row in xrp.iterrows():\n",
    "            #Checking if the transaction's timestamp is within time window specified by starttime and endtime\n",
    "            if (row['TimeStamp'] < endtime) & (row['TimeStamp'] > starttime):\n",
    "                #Adding account balances to respective dictionary balance\n",
    "                dicAccBal[row['Account']][i] += (-1) * (row['AmountXRP'])\n",
    "                dicAccBal[row['Destination']][i] += (1) * (row['AmountXRP'])"
   ]
  },
  {
   "cell_type": "markdown",
   "metadata": {},
   "source": [
    "## Exploring NetworkX Package as a visualization tool"
   ]
  },
  {
   "cell_type": "code",
   "execution_count": 25,
   "metadata": {
    "scrolled": true
   },
   "outputs": [
    {
     "data": {
      "image/png": "[encoded data removed]",
      "text/plain": [
       "<Figure size 432x288 with 1 Axes>"
      ]
     },
     "metadata": {},
     "output_type": "display_data"
    }
   ],
   "source": [
    "\n",
    "\n",
    "G = nx.DiGraph()\n",
    "G.add_edges_from(\n",
    "    [('A', 'B'), ('A', 'C'), ('D', 'B'), ('E', 'C'), ('E', 'F'),\n",
    "     ('B', 'H'), ('B', 'G'), ('B', 'F'), ('C', 'G')])\n",
    "\n",
    "val_map = {'A': 1.0,\n",
    "           'D': 0.5714285714285714,\n",
    "           'H': 0.0}\n",
    "\n",
    "values = [val_map.get(node, 0.25) for node in G.nodes()]\n",
    "\n",
    "# Specify the edges you want here\n",
    "red_edges = [('A', 'C'), ('E', 'C')]\n",
    "edge_colours = ['black' if not edge in red_edges else 'red'\n",
    "                for edge in G.edges()]\n",
    "black_edges = [edge for edge in G.edges() if edge not in red_edges]\n",
    "\n",
    "# Need to create a layout when doing\n",
    "# separate calls to draw nodes and edges\n",
    "pos = nx.spring_layout(G)\n",
    "nx.draw_networkx_nodes(G, pos, cmap=plt.get_cmap('jet'), \n",
    "                       node_color = values, node_size = 500)\n",
    "nx.draw_networkx_labels(G, pos)\n",
    "nx.draw_networkx_edges(G, pos, edgelist=red_edges, edge_color='r', arrows=True)\n",
    "nx.draw_networkx_edges(G, pos, edgelist=black_edges, arrows=False)\n",
    "plt.show()"
   ]
  },
  {
   "cell_type": "markdown",
   "metadata": {},
   "source": [
    "## Feature Engineering for Clustering"
   ]
  },
  {
   "cell_type": "markdown",
   "metadata": {},
   "source": [
    "### Querying dataset with Transaction Type to first do some EDA"
   ]
  },
  {
   "cell_type": "code",
   "execution_count": 23,
   "metadata": {},
   "outputs": [],
   "source": [
    "#Query and query_parameters\n",
    "query3 = \"\"\"\n",
    "Select \n",
    "  TIMESTAMP(l.CloseTime) as `TimeStamp`,\n",
    "  t.Account,t.Destination,t.Fee,t.TxnSignature,t.AmountXRP,t.LedgerIndex,t.TransactionType\n",
    "FROM\n",
    "  `xrpledgerdata.fullhistory.transactions`t\n",
    "JOIN\n",
    "  `xrpledgerdata.fullhistory.ledgers` l\n",
    "  on t.LedgerIndex=l.LedgerIndex\n",
    "where t.TransactionResult = \"tesSUCCESS\"\n",
    "\n",
    "AND TIMESTAMP(l.CloseTime) >=TIMESTAMP(@start_date)\n",
    "AND TIMESTAMP(l.CloseTime) <=TIMESTAMP(@end_date)\n",
    "\n",
    "\n",
    "ORDER BY TimeStamp\n",
    "LIMIT 10000;\n",
    "\"\"\"\n",
    "query_params3 = [\n",
    "    bigquery.ScalarQueryParameter(\"start_date\", \"STRING\", start_date),\n",
    "    bigquery.ScalarQueryParameter(\"end_date\", \"STRING\", end_date)\n",
    "]\n"
   ]
  },
  {
   "cell_type": "code",
   "execution_count": 24,
   "metadata": {
    "scrolled": true
   },
   "outputs": [
    {
     "data": {
      "text/html": [
       "<div>\n",
       "<style scoped>\n",
       "    .dataframe tbody tr th:only-of-type {\n",
       "        vertical-align: middle;\n",
       "    }\n",
       "\n",
       "    .dataframe tbody tr th {\n",
       "        vertical-align: top;\n",
       "    }\n",
       "\n",
       "    .dataframe thead th {\n",
       "        text-align: right;\n",
       "    }\n",
       "</style>\n",
       "<table border=\"1\" class=\"dataframe\">\n",
       "  <thead>\n",
       "    <tr style=\"text-align: right;\">\n",
       "      <th></th>\n",
       "      <th>TimeStamp</th>\n",
       "      <th>Account</th>\n",
       "      <th>Destination</th>\n",
       "      <th>Fee</th>\n",
       "      <th>TxnSignature</th>\n",
       "      <th>AmountXRP</th>\n",
       "      <th>LedgerIndex</th>\n",
       "      <th>TransactionType</th>\n",
       "    </tr>\n",
       "  </thead>\n",
       "  <tbody>\n",
       "    <tr>\n",
       "      <th>0</th>\n",
       "      <td>2019-12-15 00:00:00+00:00</td>\n",
       "      <td>rhJYdAAiZPJpztnu13pHAATi4gsEi3Rf28</td>\n",
       "      <td>None</td>\n",
       "      <td>12</td>\n",
       "      <td>304402203F5B78E27891BDA989407C70BF0516E887644D...</td>\n",
       "      <td>NaN</td>\n",
       "      <td>52058308</td>\n",
       "      <td>OfferCreate</td>\n",
       "    </tr>\n",
       "    <tr>\n",
       "      <th>1</th>\n",
       "      <td>2019-12-15 00:00:00+00:00</td>\n",
       "      <td>r4zaMHE5GG4zuD3CaqjNbfgo3yuFoKG37Q</td>\n",
       "      <td>None</td>\n",
       "      <td>12</td>\n",
       "      <td>30450221009A74CC0FCE245409DE658B3527DFEFD743E4...</td>\n",
       "      <td>NaN</td>\n",
       "      <td>52058308</td>\n",
       "      <td>OfferCreate</td>\n",
       "    </tr>\n",
       "    <tr>\n",
       "      <th>2</th>\n",
       "      <td>2019-12-15 00:00:00+00:00</td>\n",
       "      <td>rhJYdAAiZPJpztnu13pHAATi4gsEi3Rf28</td>\n",
       "      <td>None</td>\n",
       "      <td>12</td>\n",
       "      <td>3045022100FF1D1FBC0970606AE991FC712A7BC3423477...</td>\n",
       "      <td>NaN</td>\n",
       "      <td>52058308</td>\n",
       "      <td>OfferCreate</td>\n",
       "    </tr>\n",
       "    <tr>\n",
       "      <th>3</th>\n",
       "      <td>2019-12-15 00:00:00+00:00</td>\n",
       "      <td>rJnDtS59KUSWKsddzVymUCLZPjUPPrRLzm</td>\n",
       "      <td>rM75cCsWqxQnHSPkyuc1HhYq9oBJQFgdMN</td>\n",
       "      <td>12</td>\n",
       "      <td>304402201F06F7B65558340848D7BB398F2959441A5534...</td>\n",
       "      <td>NaN</td>\n",
       "      <td>52058308</td>\n",
       "      <td>Payment</td>\n",
       "    </tr>\n",
       "    <tr>\n",
       "      <th>4</th>\n",
       "      <td>2019-12-15 00:00:00+00:00</td>\n",
       "      <td>rDzTZxa7NwD9vmNf5dvTbW4FQDNSRsfPv6</td>\n",
       "      <td>None</td>\n",
       "      <td>12</td>\n",
       "      <td>304502210098002E509DD8F2D733CA367500E8C554F8EB...</td>\n",
       "      <td>NaN</td>\n",
       "      <td>52058308</td>\n",
       "      <td>OfferCreate</td>\n",
       "    </tr>\n",
       "    <tr>\n",
       "      <th>...</th>\n",
       "      <td>...</td>\n",
       "      <td>...</td>\n",
       "      <td>...</td>\n",
       "      <td>...</td>\n",
       "      <td>...</td>\n",
       "      <td>...</td>\n",
       "      <td>...</td>\n",
       "      <td>...</td>\n",
       "    </tr>\n",
       "    <tr>\n",
       "      <th>9995</th>\n",
       "      <td>2019-12-15 00:12:00+00:00</td>\n",
       "      <td>rMBzp8CgpE441cp5PVyA9rpVV7oT8hP3ys</td>\n",
       "      <td>None</td>\n",
       "      <td>10</td>\n",
       "      <td>3044022014908A0F158B44AA537DB2DBA4EFED62CCBE94...</td>\n",
       "      <td>NaN</td>\n",
       "      <td>52058491</td>\n",
       "      <td>OfferCreate</td>\n",
       "    </tr>\n",
       "    <tr>\n",
       "      <th>9996</th>\n",
       "      <td>2019-12-15 00:12:00+00:00</td>\n",
       "      <td>r4AZpDKVoBxVcYUJCWMcqZzyWsHTteC4ZE</td>\n",
       "      <td>None</td>\n",
       "      <td>12</td>\n",
       "      <td>3044022005B4CDD0EDC3AF11DF10F755FBC5394E46BA12...</td>\n",
       "      <td>NaN</td>\n",
       "      <td>52058491</td>\n",
       "      <td>OfferCreate</td>\n",
       "    </tr>\n",
       "    <tr>\n",
       "      <th>9997</th>\n",
       "      <td>2019-12-15 00:12:00+00:00</td>\n",
       "      <td>r4dgY6Mzob3NVq8CFYdEiPnXKboRScsXRu</td>\n",
       "      <td>None</td>\n",
       "      <td>12</td>\n",
       "      <td>3045022100EC977D02C752BB51914972F79530198FF6F1...</td>\n",
       "      <td>NaN</td>\n",
       "      <td>52058491</td>\n",
       "      <td>OfferCreate</td>\n",
       "    </tr>\n",
       "    <tr>\n",
       "      <th>9998</th>\n",
       "      <td>2019-12-15 00:12:00+00:00</td>\n",
       "      <td>r4dgY6Mzob3NVq8CFYdEiPnXKboRScsXRu</td>\n",
       "      <td>None</td>\n",
       "      <td>12</td>\n",
       "      <td>304402201DD10D9B64B97A5A220A213CD6B17FE24A28E7...</td>\n",
       "      <td>NaN</td>\n",
       "      <td>52058491</td>\n",
       "      <td>OfferCreate</td>\n",
       "    </tr>\n",
       "    <tr>\n",
       "      <th>9999</th>\n",
       "      <td>2019-12-15 00:12:00+00:00</td>\n",
       "      <td>rh3VLyj1GbQjX7eA15BwUagEhSrPHmLkSR</td>\n",
       "      <td>None</td>\n",
       "      <td>12</td>\n",
       "      <td>3045022100F0D5176121B0E5D061613CC55D8AE5CB8E53...</td>\n",
       "      <td>NaN</td>\n",
       "      <td>52058491</td>\n",
       "      <td>OfferCreate</td>\n",
       "    </tr>\n",
       "  </tbody>\n",
       "</table>\n",
       "<p>10000 rows × 8 columns</p>\n",
       "</div>"
      ],
      "text/plain": [
       "                     TimeStamp                             Account  \\\n",
       "0    2019-12-15 00:00:00+00:00  rhJYdAAiZPJpztnu13pHAATi4gsEi3Rf28   \n",
       "1    2019-12-15 00:00:00+00:00  r4zaMHE5GG4zuD3CaqjNbfgo3yuFoKG37Q   \n",
       "2    2019-12-15 00:00:00+00:00  rhJYdAAiZPJpztnu13pHAATi4gsEi3Rf28   \n",
       "3    2019-12-15 00:00:00+00:00  rJnDtS59KUSWKsddzVymUCLZPjUPPrRLzm   \n",
       "4    2019-12-15 00:00:00+00:00  rDzTZxa7NwD9vmNf5dvTbW4FQDNSRsfPv6   \n",
       "...                        ...                                 ...   \n",
       "9995 2019-12-15 00:12:00+00:00  rMBzp8CgpE441cp5PVyA9rpVV7oT8hP3ys   \n",
       "9996 2019-12-15 00:12:00+00:00  r4AZpDKVoBxVcYUJCWMcqZzyWsHTteC4ZE   \n",
       "9997 2019-12-15 00:12:00+00:00  r4dgY6Mzob3NVq8CFYdEiPnXKboRScsXRu   \n",
       "9998 2019-12-15 00:12:00+00:00  r4dgY6Mzob3NVq8CFYdEiPnXKboRScsXRu   \n",
       "9999 2019-12-15 00:12:00+00:00  rh3VLyj1GbQjX7eA15BwUagEhSrPHmLkSR   \n",
       "\n",
       "                             Destination  Fee  \\\n",
       "0                                   None   12   \n",
       "1                                   None   12   \n",
       "2                                   None   12   \n",
       "3     rM75cCsWqxQnHSPkyuc1HhYq9oBJQFgdMN   12   \n",
       "4                                   None   12   \n",
       "...                                  ...  ...   \n",
       "9995                                None   10   \n",
       "9996                                None   12   \n",
       "9997                                None   12   \n",
       "9998                                None   12   \n",
       "9999                                None   12   \n",
       "\n",
       "                                           TxnSignature  AmountXRP  \\\n",
       "0     304402203F5B78E27891BDA989407C70BF0516E887644D...        NaN   \n",
       "1     30450221009A74CC0FCE245409DE658B3527DFEFD743E4...        NaN   \n",
       "2     3045022100FF1D1FBC0970606AE991FC712A7BC3423477...        NaN   \n",
       "3     304402201F06F7B65558340848D7BB398F2959441A5534...        NaN   \n",
       "4     304502210098002E509DD8F2D733CA367500E8C554F8EB...        NaN   \n",
       "...                                                 ...        ...   \n",
       "9995  3044022014908A0F158B44AA537DB2DBA4EFED62CCBE94...        NaN   \n",
       "9996  3044022005B4CDD0EDC3AF11DF10F755FBC5394E46BA12...        NaN   \n",
       "9997  3045022100EC977D02C752BB51914972F79530198FF6F1...        NaN   \n",
       "9998  304402201DD10D9B64B97A5A220A213CD6B17FE24A28E7...        NaN   \n",
       "9999  3045022100F0D5176121B0E5D061613CC55D8AE5CB8E53...        NaN   \n",
       "\n",
       "      LedgerIndex TransactionType  \n",
       "0        52058308     OfferCreate  \n",
       "1        52058308     OfferCreate  \n",
       "2        52058308     OfferCreate  \n",
       "3        52058308         Payment  \n",
       "4        52058308     OfferCreate  \n",
       "...           ...             ...  \n",
       "9995     52058491     OfferCreate  \n",
       "9996     52058491     OfferCreate  \n",
       "9997     52058491     OfferCreate  \n",
       "9998     52058491     OfferCreate  \n",
       "9999     52058491     OfferCreate  \n",
       "\n",
       "[10000 rows x 8 columns]"
      ]
     },
     "execution_count": 24,
     "metadata": {},
     "output_type": "execute_result"
    }
   ],
   "source": [
    "xrp3 = gbq_query(query3,credentials,query_params3)\n",
    "xrp3"
   ]
  },
  {
   "cell_type": "code",
   "execution_count": 25,
   "metadata": {},
   "outputs": [],
   "source": [
    "def get_txntypedist(data):\n",
    "    return data['TransactionType'].value_counts()\n",
    "    "
   ]
  },
  {
   "cell_type": "code",
   "execution_count": 26,
   "metadata": {
    "scrolled": true
   },
   "outputs": [
    {
     "data": {
      "text/plain": [
       "OfferCreate    7536\n",
       "Payment        2163\n",
       "OfferCancel     294\n",
       "AccountSet        7\n",
       "Name: TransactionType, dtype: int64"
      ]
     },
     "execution_count": 26,
     "metadata": {},
     "output_type": "execute_result"
    }
   ],
   "source": [
    "get_txntypedist(xrp3)"
   ]
  },
  {
   "cell_type": "code",
   "execution_count": 48,
   "metadata": {},
   "outputs": [
    {
     "data": {
      "text/plain": [
       "LedgerIndex  TransactionType\n",
       "52058308     OfferCreate        27\n",
       "             Payment             6\n",
       "             OfferCancel         1\n",
       "52058309     OfferCreate        44\n",
       "             Payment            30\n",
       "                                ..\n",
       "52058490     OfferCreate        41\n",
       "             Payment             4\n",
       "52058491     OfferCreate        48\n",
       "             OfferCancel         2\n",
       "             Payment             1\n",
       "Name: TransactionType, Length: 518, dtype: int64"
      ]
     },
     "execution_count": 48,
     "metadata": {},
     "output_type": "execute_result"
    }
   ],
   "source": [
    "xrp3.groupby('LedgerIndex')['TransactionType'].value_counts()"
   ]
  },
  {
   "cell_type": "code",
   "execution_count": 31,
   "metadata": {},
   "outputs": [],
   "source": [
    "def get_txnsum(data):\n",
    "    return data.groupby(['Account','Destination']).sum()"
   ]
  },
  {
   "cell_type": "code",
   "execution_count": 32,
   "metadata": {
    "scrolled": true
   },
   "outputs": [
    {
     "data": {
      "text/html": [
       "<div>\n",
       "<style scoped>\n",
       "    .dataframe tbody tr th:only-of-type {\n",
       "        vertical-align: middle;\n",
       "    }\n",
       "\n",
       "    .dataframe tbody tr th {\n",
       "        vertical-align: top;\n",
       "    }\n",
       "\n",
       "    .dataframe thead th {\n",
       "        text-align: right;\n",
       "    }\n",
       "</style>\n",
       "<table border=\"1\" class=\"dataframe\">\n",
       "  <thead>\n",
       "    <tr style=\"text-align: right;\">\n",
       "      <th></th>\n",
       "      <th></th>\n",
       "      <th>Fee</th>\n",
       "      <th>AmountXRP</th>\n",
       "      <th>LedgerIndex</th>\n",
       "    </tr>\n",
       "    <tr>\n",
       "      <th>Account</th>\n",
       "      <th>Destination</th>\n",
       "      <th></th>\n",
       "      <th></th>\n",
       "      <th></th>\n",
       "    </tr>\n",
       "  </thead>\n",
       "  <tbody>\n",
       "    <tr>\n",
       "      <th>r34iHT6Gziux5fH8r8Aoa6ND3nr36ZuWmj</th>\n",
       "      <th>rMgeFZdvqkmyVyKzoBNy2XeWH8xPKbyKUD</th>\n",
       "      <td>7520</td>\n",
       "      <td>0.000000e+00</td>\n",
       "      <td>312350380</td>\n",
       "    </tr>\n",
       "    <tr>\n",
       "      <th rowspan=\"4\" valign=\"top\">r369aVmXp8nWrkDEBVHX5fiy1jPeb77LRh</th>\n",
       "      <th>r9oAVjmfeFJ7AiMyvSxjF1CpuWkocc79JT</th>\n",
       "      <td>1000</td>\n",
       "      <td>5.490000e+07</td>\n",
       "      <td>52058322</td>\n",
       "    </tr>\n",
       "    <tr>\n",
       "      <th>rEb8TK3gBgk5auZkwc6sHnwrGVJH8DuaLh</th>\n",
       "      <td>1000</td>\n",
       "      <td>2.699044e+08</td>\n",
       "      <td>52058461</td>\n",
       "    </tr>\n",
       "    <tr>\n",
       "      <th>rJGEBwYTKZKcaZgvoY6bf4cVr2AbDjhhUK</th>\n",
       "      <td>1000</td>\n",
       "      <td>1.188790e+10</td>\n",
       "      <td>52058337</td>\n",
       "    </tr>\n",
       "    <tr>\n",
       "      <th>rwqn1TbFgabn5iY33CKKcuzSNaJ5RfhvHR</th>\n",
       "      <td>1000</td>\n",
       "      <td>1.981096e+09</td>\n",
       "      <td>52058483</td>\n",
       "    </tr>\n",
       "    <tr>\n",
       "      <th>...</th>\n",
       "      <th>...</th>\n",
       "      <td>...</td>\n",
       "      <td>...</td>\n",
       "      <td>...</td>\n",
       "    </tr>\n",
       "    <tr>\n",
       "      <th>rwsQjcR9gkNRsVpX6pXpErnK7ewaqgEe59</th>\n",
       "      <th>rsi42LZ7WztciwBeP1sCwxXuRunRHFvcRo</th>\n",
       "      <td>14478</td>\n",
       "      <td>0.000000e+00</td>\n",
       "      <td>312350366</td>\n",
       "    </tr>\n",
       "    <tr>\n",
       "      <th>rxQBwm8spKziiJscBhuFisGVAFBgTEE4z</th>\n",
       "      <th>rL2SpzwrCZ4N2BaPm88pNGGHkPLzejZgB8</th>\n",
       "      <td>13129</td>\n",
       "      <td>0.000000e+00</td>\n",
       "      <td>312350438</td>\n",
       "    </tr>\n",
       "    <tr>\n",
       "      <th rowspan=\"2\" valign=\"top\">ryBANkk28Mj71jRKAkt13U1X9ubztsGWZ</th>\n",
       "      <th>r9Eb2tRiUs39MEycVAQfEy7QpBePH4WVPp</th>\n",
       "      <td>12</td>\n",
       "      <td>7.432574e+07</td>\n",
       "      <td>52058463</td>\n",
       "    </tr>\n",
       "    <tr>\n",
       "      <th>rwU8rAiE2eyEPz3sikfbHuqCuiAtdXqa2v</th>\n",
       "      <td>7707</td>\n",
       "      <td>1.572878e+10</td>\n",
       "      <td>52058310</td>\n",
       "    </tr>\n",
       "    <tr>\n",
       "      <th>ryz7cmCmwomdiCGSraeRHaxWjmHmfa5Kh</th>\n",
       "      <th>rEu9cWnsfrb76y1trRX5ioHRXyZLwhL3sT</th>\n",
       "      <td>26828</td>\n",
       "      <td>0.000000e+00</td>\n",
       "      <td>364408776</td>\n",
       "    </tr>\n",
       "  </tbody>\n",
       "</table>\n",
       "<p>371 rows × 3 columns</p>\n",
       "</div>"
      ],
      "text/plain": [
       "                                                                         Fee  \\\n",
       "Account                            Destination                                 \n",
       "r34iHT6Gziux5fH8r8Aoa6ND3nr36ZuWmj rMgeFZdvqkmyVyKzoBNy2XeWH8xPKbyKUD   7520   \n",
       "r369aVmXp8nWrkDEBVHX5fiy1jPeb77LRh r9oAVjmfeFJ7AiMyvSxjF1CpuWkocc79JT   1000   \n",
       "                                   rEb8TK3gBgk5auZkwc6sHnwrGVJH8DuaLh   1000   \n",
       "                                   rJGEBwYTKZKcaZgvoY6bf4cVr2AbDjhhUK   1000   \n",
       "                                   rwqn1TbFgabn5iY33CKKcuzSNaJ5RfhvHR   1000   \n",
       "...                                                                      ...   \n",
       "rwsQjcR9gkNRsVpX6pXpErnK7ewaqgEe59 rsi42LZ7WztciwBeP1sCwxXuRunRHFvcRo  14478   \n",
       "rxQBwm8spKziiJscBhuFisGVAFBgTEE4z  rL2SpzwrCZ4N2BaPm88pNGGHkPLzejZgB8  13129   \n",
       "ryBANkk28Mj71jRKAkt13U1X9ubztsGWZ  r9Eb2tRiUs39MEycVAQfEy7QpBePH4WVPp     12   \n",
       "                                   rwU8rAiE2eyEPz3sikfbHuqCuiAtdXqa2v   7707   \n",
       "ryz7cmCmwomdiCGSraeRHaxWjmHmfa5Kh  rEu9cWnsfrb76y1trRX5ioHRXyZLwhL3sT  26828   \n",
       "\n",
       "                                                                          AmountXRP  \\\n",
       "Account                            Destination                                        \n",
       "r34iHT6Gziux5fH8r8Aoa6ND3nr36ZuWmj rMgeFZdvqkmyVyKzoBNy2XeWH8xPKbyKUD  0.000000e+00   \n",
       "r369aVmXp8nWrkDEBVHX5fiy1jPeb77LRh r9oAVjmfeFJ7AiMyvSxjF1CpuWkocc79JT  5.490000e+07   \n",
       "                                   rEb8TK3gBgk5auZkwc6sHnwrGVJH8DuaLh  2.699044e+08   \n",
       "                                   rJGEBwYTKZKcaZgvoY6bf4cVr2AbDjhhUK  1.188790e+10   \n",
       "                                   rwqn1TbFgabn5iY33CKKcuzSNaJ5RfhvHR  1.981096e+09   \n",
       "...                                                                             ...   \n",
       "rwsQjcR9gkNRsVpX6pXpErnK7ewaqgEe59 rsi42LZ7WztciwBeP1sCwxXuRunRHFvcRo  0.000000e+00   \n",
       "rxQBwm8spKziiJscBhuFisGVAFBgTEE4z  rL2SpzwrCZ4N2BaPm88pNGGHkPLzejZgB8  0.000000e+00   \n",
       "ryBANkk28Mj71jRKAkt13U1X9ubztsGWZ  r9Eb2tRiUs39MEycVAQfEy7QpBePH4WVPp  7.432574e+07   \n",
       "                                   rwU8rAiE2eyEPz3sikfbHuqCuiAtdXqa2v  1.572878e+10   \n",
       "ryz7cmCmwomdiCGSraeRHaxWjmHmfa5Kh  rEu9cWnsfrb76y1trRX5ioHRXyZLwhL3sT  0.000000e+00   \n",
       "\n",
       "                                                                       LedgerIndex  \n",
       "Account                            Destination                                      \n",
       "r34iHT6Gziux5fH8r8Aoa6ND3nr36ZuWmj rMgeFZdvqkmyVyKzoBNy2XeWH8xPKbyKUD    312350380  \n",
       "r369aVmXp8nWrkDEBVHX5fiy1jPeb77LRh r9oAVjmfeFJ7AiMyvSxjF1CpuWkocc79JT     52058322  \n",
       "                                   rEb8TK3gBgk5auZkwc6sHnwrGVJH8DuaLh     52058461  \n",
       "                                   rJGEBwYTKZKcaZgvoY6bf4cVr2AbDjhhUK     52058337  \n",
       "                                   rwqn1TbFgabn5iY33CKKcuzSNaJ5RfhvHR     52058483  \n",
       "...                                                                            ...  \n",
       "rwsQjcR9gkNRsVpX6pXpErnK7ewaqgEe59 rsi42LZ7WztciwBeP1sCwxXuRunRHFvcRo    312350366  \n",
       "rxQBwm8spKziiJscBhuFisGVAFBgTEE4z  rL2SpzwrCZ4N2BaPm88pNGGHkPLzejZgB8    312350438  \n",
       "ryBANkk28Mj71jRKAkt13U1X9ubztsGWZ  r9Eb2tRiUs39MEycVAQfEy7QpBePH4WVPp     52058463  \n",
       "                                   rwU8rAiE2eyEPz3sikfbHuqCuiAtdXqa2v     52058310  \n",
       "ryz7cmCmwomdiCGSraeRHaxWjmHmfa5Kh  rEu9cWnsfrb76y1trRX5ioHRXyZLwhL3sT    364408776  \n",
       "\n",
       "[371 rows x 3 columns]"
      ]
     },
     "execution_count": 32,
     "metadata": {},
     "output_type": "execute_result"
    }
   ],
   "source": [
    "get_txnsum(xrp3)"
   ]
  },
  {
   "cell_type": "code",
   "execution_count": 37,
   "metadata": {},
   "outputs": [],
   "source": [
    "def get_txnavg(data):\n",
    "    return data.groupby(['Account','Destination']).mean()"
   ]
  },
  {
   "cell_type": "code",
   "execution_count": 40,
   "metadata": {
    "scrolled": true
   },
   "outputs": [
    {
     "data": {
      "text/html": [
       "<div>\n",
       "<style scoped>\n",
       "    .dataframe tbody tr th:only-of-type {\n",
       "        vertical-align: middle;\n",
       "    }\n",
       "\n",
       "    .dataframe tbody tr th {\n",
       "        vertical-align: top;\n",
       "    }\n",
       "\n",
       "    .dataframe thead th {\n",
       "        text-align: right;\n",
       "    }\n",
       "</style>\n",
       "<table border=\"1\" class=\"dataframe\">\n",
       "  <thead>\n",
       "    <tr style=\"text-align: right;\">\n",
       "      <th></th>\n",
       "      <th></th>\n",
       "      <th>Fee</th>\n",
       "      <th>AmountXRP</th>\n",
       "    </tr>\n",
       "    <tr>\n",
       "      <th>Account</th>\n",
       "      <th>Destination</th>\n",
       "      <th></th>\n",
       "      <th></th>\n",
       "    </tr>\n",
       "  </thead>\n",
       "  <tbody>\n",
       "    <tr>\n",
       "      <th>r34iHT6Gziux5fH8r8Aoa6ND3nr36ZuWmj</th>\n",
       "      <th>rMgeFZdvqkmyVyKzoBNy2XeWH8xPKbyKUD</th>\n",
       "      <td>1253.333333</td>\n",
       "      <td>NaN</td>\n",
       "    </tr>\n",
       "    <tr>\n",
       "      <th rowspan=\"4\" valign=\"top\">r369aVmXp8nWrkDEBVHX5fiy1jPeb77LRh</th>\n",
       "      <th>r9oAVjmfeFJ7AiMyvSxjF1CpuWkocc79JT</th>\n",
       "      <td>1000.000000</td>\n",
       "      <td>5.490000e+07</td>\n",
       "    </tr>\n",
       "    <tr>\n",
       "      <th>rEb8TK3gBgk5auZkwc6sHnwrGVJH8DuaLh</th>\n",
       "      <td>1000.000000</td>\n",
       "      <td>2.699044e+08</td>\n",
       "    </tr>\n",
       "    <tr>\n",
       "      <th>rJGEBwYTKZKcaZgvoY6bf4cVr2AbDjhhUK</th>\n",
       "      <td>1000.000000</td>\n",
       "      <td>1.188790e+10</td>\n",
       "    </tr>\n",
       "    <tr>\n",
       "      <th>rwqn1TbFgabn5iY33CKKcuzSNaJ5RfhvHR</th>\n",
       "      <td>1000.000000</td>\n",
       "      <td>1.981096e+09</td>\n",
       "    </tr>\n",
       "    <tr>\n",
       "      <th>...</th>\n",
       "      <th>...</th>\n",
       "      <td>...</td>\n",
       "      <td>...</td>\n",
       "    </tr>\n",
       "    <tr>\n",
       "      <th>rwsQjcR9gkNRsVpX6pXpErnK7ewaqgEe59</th>\n",
       "      <th>rsi42LZ7WztciwBeP1sCwxXuRunRHFvcRo</th>\n",
       "      <td>2413.000000</td>\n",
       "      <td>NaN</td>\n",
       "    </tr>\n",
       "    <tr>\n",
       "      <th>rxQBwm8spKziiJscBhuFisGVAFBgTEE4z</th>\n",
       "      <th>rL2SpzwrCZ4N2BaPm88pNGGHkPLzejZgB8</th>\n",
       "      <td>2188.166667</td>\n",
       "      <td>NaN</td>\n",
       "    </tr>\n",
       "    <tr>\n",
       "      <th rowspan=\"2\" valign=\"top\">ryBANkk28Mj71jRKAkt13U1X9ubztsGWZ</th>\n",
       "      <th>r9Eb2tRiUs39MEycVAQfEy7QpBePH4WVPp</th>\n",
       "      <td>12.000000</td>\n",
       "      <td>7.432574e+07</td>\n",
       "    </tr>\n",
       "    <tr>\n",
       "      <th>rwU8rAiE2eyEPz3sikfbHuqCuiAtdXqa2v</th>\n",
       "      <td>7707.000000</td>\n",
       "      <td>1.572878e+10</td>\n",
       "    </tr>\n",
       "    <tr>\n",
       "      <th>ryz7cmCmwomdiCGSraeRHaxWjmHmfa5Kh</th>\n",
       "      <th>rEu9cWnsfrb76y1trRX5ioHRXyZLwhL3sT</th>\n",
       "      <td>3832.571429</td>\n",
       "      <td>NaN</td>\n",
       "    </tr>\n",
       "  </tbody>\n",
       "</table>\n",
       "<p>371 rows × 2 columns</p>\n",
       "</div>"
      ],
      "text/plain": [
       "                                                                               Fee  \\\n",
       "Account                            Destination                                       \n",
       "r34iHT6Gziux5fH8r8Aoa6ND3nr36ZuWmj rMgeFZdvqkmyVyKzoBNy2XeWH8xPKbyKUD  1253.333333   \n",
       "r369aVmXp8nWrkDEBVHX5fiy1jPeb77LRh r9oAVjmfeFJ7AiMyvSxjF1CpuWkocc79JT  1000.000000   \n",
       "                                   rEb8TK3gBgk5auZkwc6sHnwrGVJH8DuaLh  1000.000000   \n",
       "                                   rJGEBwYTKZKcaZgvoY6bf4cVr2AbDjhhUK  1000.000000   \n",
       "                                   rwqn1TbFgabn5iY33CKKcuzSNaJ5RfhvHR  1000.000000   \n",
       "...                                                                            ...   \n",
       "rwsQjcR9gkNRsVpX6pXpErnK7ewaqgEe59 rsi42LZ7WztciwBeP1sCwxXuRunRHFvcRo  2413.000000   \n",
       "rxQBwm8spKziiJscBhuFisGVAFBgTEE4z  rL2SpzwrCZ4N2BaPm88pNGGHkPLzejZgB8  2188.166667   \n",
       "ryBANkk28Mj71jRKAkt13U1X9ubztsGWZ  r9Eb2tRiUs39MEycVAQfEy7QpBePH4WVPp    12.000000   \n",
       "                                   rwU8rAiE2eyEPz3sikfbHuqCuiAtdXqa2v  7707.000000   \n",
       "ryz7cmCmwomdiCGSraeRHaxWjmHmfa5Kh  rEu9cWnsfrb76y1trRX5ioHRXyZLwhL3sT  3832.571429   \n",
       "\n",
       "                                                                          AmountXRP  \n",
       "Account                            Destination                                       \n",
       "r34iHT6Gziux5fH8r8Aoa6ND3nr36ZuWmj rMgeFZdvqkmyVyKzoBNy2XeWH8xPKbyKUD           NaN  \n",
       "r369aVmXp8nWrkDEBVHX5fiy1jPeb77LRh r9oAVjmfeFJ7AiMyvSxjF1CpuWkocc79JT  5.490000e+07  \n",
       "                                   rEb8TK3gBgk5auZkwc6sHnwrGVJH8DuaLh  2.699044e+08  \n",
       "                                   rJGEBwYTKZKcaZgvoY6bf4cVr2AbDjhhUK  1.188790e+10  \n",
       "                                   rwqn1TbFgabn5iY33CKKcuzSNaJ5RfhvHR  1.981096e+09  \n",
       "...                                                                             ...  \n",
       "rwsQjcR9gkNRsVpX6pXpErnK7ewaqgEe59 rsi42LZ7WztciwBeP1sCwxXuRunRHFvcRo           NaN  \n",
       "rxQBwm8spKziiJscBhuFisGVAFBgTEE4z  rL2SpzwrCZ4N2BaPm88pNGGHkPLzejZgB8           NaN  \n",
       "ryBANkk28Mj71jRKAkt13U1X9ubztsGWZ  r9Eb2tRiUs39MEycVAQfEy7QpBePH4WVPp  7.432574e+07  \n",
       "                                   rwU8rAiE2eyEPz3sikfbHuqCuiAtdXqa2v  1.572878e+10  \n",
       "ryz7cmCmwomdiCGSraeRHaxWjmHmfa5Kh  rEu9cWnsfrb76y1trRX5ioHRXyZLwhL3sT           NaN  \n",
       "\n",
       "[371 rows x 2 columns]"
      ]
     },
     "execution_count": 40,
     "metadata": {},
     "output_type": "execute_result"
    }
   ],
   "source": [
    "get_txnavg(xrp3)[['Fee','AmountXRP']]"
   ]
  },
  {
   "cell_type": "code",
   "execution_count": 46,
   "metadata": {},
   "outputs": [
    {
     "ename": "ValueError",
     "evalue": "could not convert string to float: 'OfferCreateOfferCreateOfferCreatePaymentOfferCreateOfferCreateOfferCreateOfferCreateOfferCancelOfferCreatePaymentOfferCreatePaymentOfferCreateOfferCreatePaymentPaymentOfferCreateOfferCreateOfferCreatePaymentOfferCreateOfferCreateOfferCreateOfferCreateOfferCreateOfferCreateOfferCreateOfferCreateOfferCreateOfferCreateOfferCreateOfferCreateOfferCreate'",
     "output_type": "error",
     "traceback": [
      "\u001b[0;31m---------------------------------------------------------------------------\u001b[0m",
      "\u001b[0;31mValueError\u001b[0m                                Traceback (most recent call last)",
      "\u001b[0;32m/usr/local/lib/python3.5/dist-packages/pandas/core/groupby/groupby.py\u001b[0m in \u001b[0;36mapply\u001b[0;34m(self, func, *args, **kwargs)\u001b[0m\n\u001b[1;32m    724\u001b[0m             \u001b[0;32mtry\u001b[0m\u001b[0;34m:\u001b[0m\u001b[0;34m\u001b[0m\u001b[0m\n\u001b[0;32m--> 725\u001b[0;31m                 \u001b[0mresult\u001b[0m \u001b[0;34m=\u001b[0m \u001b[0mself\u001b[0m\u001b[0;34m.\u001b[0m\u001b[0m_python_apply_general\u001b[0m\u001b[0;34m(\u001b[0m\u001b[0mf\u001b[0m\u001b[0;34m)\u001b[0m\u001b[0;34m\u001b[0m\u001b[0m\n\u001b[0m\u001b[1;32m    726\u001b[0m             \u001b[0;32mexcept\u001b[0m \u001b[0mException\u001b[0m\u001b[0;34m:\u001b[0m\u001b[0;34m\u001b[0m\u001b[0m\n",
      "\u001b[0;32m/usr/local/lib/python3.5/dist-packages/pandas/core/groupby/groupby.py\u001b[0m in \u001b[0;36m_python_apply_general\u001b[0;34m(self, f)\u001b[0m\n\u001b[1;32m    741\u001b[0m     \u001b[0;32mdef\u001b[0m \u001b[0m_python_apply_general\u001b[0m\u001b[0;34m(\u001b[0m\u001b[0mself\u001b[0m\u001b[0;34m,\u001b[0m \u001b[0mf\u001b[0m\u001b[0;34m)\u001b[0m\u001b[0;34m:\u001b[0m\u001b[0;34m\u001b[0m\u001b[0m\n\u001b[0;32m--> 742\u001b[0;31m         \u001b[0mkeys\u001b[0m\u001b[0;34m,\u001b[0m \u001b[0mvalues\u001b[0m\u001b[0;34m,\u001b[0m \u001b[0mmutated\u001b[0m \u001b[0;34m=\u001b[0m \u001b[0mself\u001b[0m\u001b[0;34m.\u001b[0m\u001b[0mgrouper\u001b[0m\u001b[0;34m.\u001b[0m\u001b[0mapply\u001b[0m\u001b[0;34m(\u001b[0m\u001b[0mf\u001b[0m\u001b[0;34m,\u001b[0m \u001b[0mself\u001b[0m\u001b[0;34m.\u001b[0m\u001b[0m_selected_obj\u001b[0m\u001b[0;34m,\u001b[0m \u001b[0mself\u001b[0m\u001b[0;34m.\u001b[0m\u001b[0maxis\u001b[0m\u001b[0;34m)\u001b[0m\u001b[0;34m\u001b[0m\u001b[0m\n\u001b[0m\u001b[1;32m    743\u001b[0m \u001b[0;34m\u001b[0m\u001b[0m\n",
      "\u001b[0;32m/usr/local/lib/python3.5/dist-packages/pandas/core/groupby/ops.py\u001b[0m in \u001b[0;36mapply\u001b[0;34m(self, f, data, axis)\u001b[0m\n\u001b[1;32m    236\u001b[0m             \u001b[0mgroup_axes\u001b[0m \u001b[0;34m=\u001b[0m \u001b[0m_get_axes\u001b[0m\u001b[0;34m(\u001b[0m\u001b[0mgroup\u001b[0m\u001b[0;34m)\u001b[0m\u001b[0;34m\u001b[0m\u001b[0m\n\u001b[0;32m--> 237\u001b[0;31m             \u001b[0mres\u001b[0m \u001b[0;34m=\u001b[0m \u001b[0mf\u001b[0m\u001b[0;34m(\u001b[0m\u001b[0mgroup\u001b[0m\u001b[0;34m)\u001b[0m\u001b[0;34m\u001b[0m\u001b[0m\n\u001b[0m\u001b[1;32m    238\u001b[0m             \u001b[0;32mif\u001b[0m \u001b[0;32mnot\u001b[0m \u001b[0m_is_indexed_like\u001b[0m\u001b[0;34m(\u001b[0m\u001b[0mres\u001b[0m\u001b[0;34m,\u001b[0m \u001b[0mgroup_axes\u001b[0m\u001b[0;34m)\u001b[0m\u001b[0;34m:\u001b[0m\u001b[0;34m\u001b[0m\u001b[0m\n",
      "\u001b[0;32m<ipython-input-46-f85c9e921828>\u001b[0m in \u001b[0;36m<lambda>\u001b[0;34m(x)\u001b[0m\n\u001b[0;32m----> 1\u001b[0;31m \u001b[0mxrp3\u001b[0m\u001b[0;34m.\u001b[0m\u001b[0mgroupby\u001b[0m\u001b[0;34m(\u001b[0m\u001b[0;34m'LedgerIndex'\u001b[0m\u001b[0;34m)\u001b[0m\u001b[0;34m[\u001b[0m\u001b[0;34m'TransactionType'\u001b[0m\u001b[0;34m]\u001b[0m\u001b[0;34m.\u001b[0m\u001b[0mapply\u001b[0m\u001b[0;34m(\u001b[0m\u001b[0;32mlambda\u001b[0m \u001b[0mx\u001b[0m\u001b[0;34m:\u001b[0m \u001b[0;36m100\u001b[0m \u001b[0;34m*\u001b[0m \u001b[0mx\u001b[0m \u001b[0;34m/\u001b[0m \u001b[0mfloat\u001b[0m\u001b[0;34m(\u001b[0m\u001b[0mx\u001b[0m\u001b[0;34m.\u001b[0m\u001b[0msum\u001b[0m\u001b[0;34m(\u001b[0m\u001b[0;34m)\u001b[0m\u001b[0;34m)\u001b[0m\u001b[0;34m)\u001b[0m\u001b[0;34m\u001b[0m\u001b[0m\n\u001b[0m",
      "\u001b[0;31mValueError\u001b[0m: could not convert string to float: 'OfferCreateOfferCreateOfferCreatePaymentOfferCreateOfferCreateOfferCreateOfferCreateOfferCancelOfferCreatePaymentOfferCreatePaymentOfferCreateOfferCreatePaymentPaymentOfferCreateOfferCreateOfferCreatePaymentOfferCreateOfferCreateOfferCreateOfferCreateOfferCreateOfferCreateOfferCreateOfferCreateOfferCreateOfferCreateOfferCreateOfferCreateOfferCreate'",
      "\nDuring handling of the above exception, another exception occurred:\n",
      "\u001b[0;31mValueError\u001b[0m                                Traceback (most recent call last)",
      "\u001b[0;32m<ipython-input-46-f85c9e921828>\u001b[0m in \u001b[0;36m<module>\u001b[0;34m\u001b[0m\n\u001b[0;32m----> 1\u001b[0;31m \u001b[0mxrp3\u001b[0m\u001b[0;34m.\u001b[0m\u001b[0mgroupby\u001b[0m\u001b[0;34m(\u001b[0m\u001b[0;34m'LedgerIndex'\u001b[0m\u001b[0;34m)\u001b[0m\u001b[0;34m[\u001b[0m\u001b[0;34m'TransactionType'\u001b[0m\u001b[0;34m]\u001b[0m\u001b[0;34m.\u001b[0m\u001b[0mapply\u001b[0m\u001b[0;34m(\u001b[0m\u001b[0;32mlambda\u001b[0m \u001b[0mx\u001b[0m\u001b[0;34m:\u001b[0m \u001b[0;36m100\u001b[0m \u001b[0;34m*\u001b[0m \u001b[0mx\u001b[0m \u001b[0;34m/\u001b[0m \u001b[0mfloat\u001b[0m\u001b[0;34m(\u001b[0m\u001b[0mx\u001b[0m\u001b[0;34m.\u001b[0m\u001b[0msum\u001b[0m\u001b[0;34m(\u001b[0m\u001b[0;34m)\u001b[0m\u001b[0;34m)\u001b[0m\u001b[0;34m)\u001b[0m\u001b[0;34m\u001b[0m\u001b[0m\n\u001b[0m",
      "\u001b[0;32m/usr/local/lib/python3.5/dist-packages/pandas/core/groupby/generic.py\u001b[0m in \u001b[0;36mapply\u001b[0;34m(self, func, *args, **kwargs)\u001b[0m\n\u001b[1;32m    813\u001b[0m     )\n\u001b[1;32m    814\u001b[0m     \u001b[0;32mdef\u001b[0m \u001b[0mapply\u001b[0m\u001b[0;34m(\u001b[0m\u001b[0mself\u001b[0m\u001b[0;34m,\u001b[0m \u001b[0mfunc\u001b[0m\u001b[0;34m,\u001b[0m \u001b[0;34m*\u001b[0m\u001b[0margs\u001b[0m\u001b[0;34m,\u001b[0m \u001b[0;34m**\u001b[0m\u001b[0mkwargs\u001b[0m\u001b[0;34m)\u001b[0m\u001b[0;34m:\u001b[0m\u001b[0;34m\u001b[0m\u001b[0m\n\u001b[0;32m--> 815\u001b[0;31m         \u001b[0;32mreturn\u001b[0m \u001b[0msuper\u001b[0m\u001b[0;34m(\u001b[0m\u001b[0;34m)\u001b[0m\u001b[0;34m.\u001b[0m\u001b[0mapply\u001b[0m\u001b[0;34m(\u001b[0m\u001b[0mfunc\u001b[0m\u001b[0;34m,\u001b[0m \u001b[0;34m*\u001b[0m\u001b[0margs\u001b[0m\u001b[0;34m,\u001b[0m \u001b[0;34m**\u001b[0m\u001b[0mkwargs\u001b[0m\u001b[0;34m)\u001b[0m\u001b[0;34m\u001b[0m\u001b[0m\n\u001b[0m\u001b[1;32m    816\u001b[0m \u001b[0;34m\u001b[0m\u001b[0m\n\u001b[1;32m    817\u001b[0m     @Substitution(\n",
      "\u001b[0;32m/usr/local/lib/python3.5/dist-packages/pandas/core/groupby/groupby.py\u001b[0m in \u001b[0;36mapply\u001b[0;34m(self, func, *args, **kwargs)\u001b[0m\n\u001b[1;32m    735\u001b[0m \u001b[0;34m\u001b[0m\u001b[0m\n\u001b[1;32m    736\u001b[0m                 \u001b[0;32mwith\u001b[0m \u001b[0m_group_selection_context\u001b[0m\u001b[0;34m(\u001b[0m\u001b[0mself\u001b[0m\u001b[0;34m)\u001b[0m\u001b[0;34m:\u001b[0m\u001b[0;34m\u001b[0m\u001b[0m\n\u001b[0;32m--> 737\u001b[0;31m                     \u001b[0;32mreturn\u001b[0m \u001b[0mself\u001b[0m\u001b[0;34m.\u001b[0m\u001b[0m_python_apply_general\u001b[0m\u001b[0;34m(\u001b[0m\u001b[0mf\u001b[0m\u001b[0;34m)\u001b[0m\u001b[0;34m\u001b[0m\u001b[0m\n\u001b[0m\u001b[1;32m    738\u001b[0m \u001b[0;34m\u001b[0m\u001b[0m\n\u001b[1;32m    739\u001b[0m         \u001b[0;32mreturn\u001b[0m \u001b[0mresult\u001b[0m\u001b[0;34m\u001b[0m\u001b[0m\n",
      "\u001b[0;32m/usr/local/lib/python3.5/dist-packages/pandas/core/groupby/groupby.py\u001b[0m in \u001b[0;36m_python_apply_general\u001b[0;34m(self, f)\u001b[0m\n\u001b[1;32m    740\u001b[0m \u001b[0;34m\u001b[0m\u001b[0m\n\u001b[1;32m    741\u001b[0m     \u001b[0;32mdef\u001b[0m \u001b[0m_python_apply_general\u001b[0m\u001b[0;34m(\u001b[0m\u001b[0mself\u001b[0m\u001b[0;34m,\u001b[0m \u001b[0mf\u001b[0m\u001b[0;34m)\u001b[0m\u001b[0;34m:\u001b[0m\u001b[0;34m\u001b[0m\u001b[0m\n\u001b[0;32m--> 742\u001b[0;31m         \u001b[0mkeys\u001b[0m\u001b[0;34m,\u001b[0m \u001b[0mvalues\u001b[0m\u001b[0;34m,\u001b[0m \u001b[0mmutated\u001b[0m \u001b[0;34m=\u001b[0m \u001b[0mself\u001b[0m\u001b[0;34m.\u001b[0m\u001b[0mgrouper\u001b[0m\u001b[0;34m.\u001b[0m\u001b[0mapply\u001b[0m\u001b[0;34m(\u001b[0m\u001b[0mf\u001b[0m\u001b[0;34m,\u001b[0m \u001b[0mself\u001b[0m\u001b[0;34m.\u001b[0m\u001b[0m_selected_obj\u001b[0m\u001b[0;34m,\u001b[0m \u001b[0mself\u001b[0m\u001b[0;34m.\u001b[0m\u001b[0maxis\u001b[0m\u001b[0;34m)\u001b[0m\u001b[0;34m\u001b[0m\u001b[0m\n\u001b[0m\u001b[1;32m    743\u001b[0m \u001b[0;34m\u001b[0m\u001b[0m\n\u001b[1;32m    744\u001b[0m         return self._wrap_applied_output(\n",
      "\u001b[0;32m/usr/local/lib/python3.5/dist-packages/pandas/core/groupby/ops.py\u001b[0m in \u001b[0;36mapply\u001b[0;34m(self, f, data, axis)\u001b[0m\n\u001b[1;32m    235\u001b[0m             \u001b[0;31m# group might be modified\u001b[0m\u001b[0;34m\u001b[0m\u001b[0;34m\u001b[0m\u001b[0m\n\u001b[1;32m    236\u001b[0m             \u001b[0mgroup_axes\u001b[0m \u001b[0;34m=\u001b[0m \u001b[0m_get_axes\u001b[0m\u001b[0;34m(\u001b[0m\u001b[0mgroup\u001b[0m\u001b[0;34m)\u001b[0m\u001b[0;34m\u001b[0m\u001b[0m\n\u001b[0;32m--> 237\u001b[0;31m             \u001b[0mres\u001b[0m \u001b[0;34m=\u001b[0m \u001b[0mf\u001b[0m\u001b[0;34m(\u001b[0m\u001b[0mgroup\u001b[0m\u001b[0;34m)\u001b[0m\u001b[0;34m\u001b[0m\u001b[0m\n\u001b[0m\u001b[1;32m    238\u001b[0m             \u001b[0;32mif\u001b[0m \u001b[0;32mnot\u001b[0m \u001b[0m_is_indexed_like\u001b[0m\u001b[0;34m(\u001b[0m\u001b[0mres\u001b[0m\u001b[0;34m,\u001b[0m \u001b[0mgroup_axes\u001b[0m\u001b[0;34m)\u001b[0m\u001b[0;34m:\u001b[0m\u001b[0;34m\u001b[0m\u001b[0m\n\u001b[1;32m    239\u001b[0m                 \u001b[0mmutated\u001b[0m \u001b[0;34m=\u001b[0m \u001b[0;32mTrue\u001b[0m\u001b[0;34m\u001b[0m\u001b[0m\n",
      "\u001b[0;32m<ipython-input-46-f85c9e921828>\u001b[0m in \u001b[0;36m<lambda>\u001b[0;34m(x)\u001b[0m\n\u001b[0;32m----> 1\u001b[0;31m \u001b[0mxrp3\u001b[0m\u001b[0;34m.\u001b[0m\u001b[0mgroupby\u001b[0m\u001b[0;34m(\u001b[0m\u001b[0;34m'LedgerIndex'\u001b[0m\u001b[0;34m)\u001b[0m\u001b[0;34m[\u001b[0m\u001b[0;34m'TransactionType'\u001b[0m\u001b[0;34m]\u001b[0m\u001b[0;34m.\u001b[0m\u001b[0mapply\u001b[0m\u001b[0;34m(\u001b[0m\u001b[0;32mlambda\u001b[0m \u001b[0mx\u001b[0m\u001b[0;34m:\u001b[0m \u001b[0;36m100\u001b[0m \u001b[0;34m*\u001b[0m \u001b[0mx\u001b[0m \u001b[0;34m/\u001b[0m \u001b[0mfloat\u001b[0m\u001b[0;34m(\u001b[0m\u001b[0mx\u001b[0m\u001b[0;34m.\u001b[0m\u001b[0msum\u001b[0m\u001b[0;34m(\u001b[0m\u001b[0;34m)\u001b[0m\u001b[0;34m)\u001b[0m\u001b[0;34m)\u001b[0m\u001b[0;34m\u001b[0m\u001b[0m\n\u001b[0m",
      "\u001b[0;31mValueError\u001b[0m: could not convert string to float: 'OfferCreateOfferCreateOfferCreatePaymentOfferCreateOfferCreateOfferCreateOfferCreateOfferCancelOfferCreatePaymentOfferCreatePaymentOfferCreateOfferCreatePaymentPaymentOfferCreateOfferCreateOfferCreatePaymentOfferCreateOfferCreateOfferCreateOfferCreateOfferCreateOfferCreateOfferCreateOfferCreateOfferCreateOfferCreateOfferCreateOfferCreateOfferCreate'"
     ]
    }
   ],
   "source": [
    "xrp3.groupby('LedgerIndex')['TransactionType'].apply(lambda x: 100 * x / float(x.sum()))"
   ]
  },
  {
   "cell_type": "code",
   "execution_count": 44,
   "metadata": {},
   "outputs": [
    {
     "data": {
      "text/plain": [
       "<pandas.core.groupby.generic.SeriesGroupBy object at 0x7fe4f4ab7e48>"
      ]
     },
     "execution_count": 44,
     "metadata": {},
     "output_type": "execute_result"
    }
   ],
   "source": [
    "xrp3.groupby('Account')['AmountXRP']"
   ]
  },
  {
   "cell_type": "code",
   "execution_count": 2,
   "metadata": {},
   "outputs": [],
   "source": [
    "from sspipe import p, px"
   ]
  },
  {
   "cell_type": "code",
   "execution_count": 54,
   "metadata": {
    "scrolled": true
   },
   "outputs": [
    {
     "data": {
      "text/plain": [
       "LedgerIndex  TransactionType\n",
       "52058308     OfferCreate        27\n",
       "             Payment             6\n",
       "             OfferCancel         1\n",
       "52058309     OfferCreate        44\n",
       "             Payment            30\n",
       "                                ..\n",
       "52058490     OfferCreate        41\n",
       "             Payment             4\n",
       "52058491     OfferCreate        48\n",
       "             OfferCancel         2\n",
       "             Payment             1\n",
       "Name: TransactionType, Length: 518, dtype: int64"
      ]
     },
     "execution_count": 54,
     "metadata": {},
     "output_type": "execute_result"
    }
   ],
   "source": [
    "xrp3.groupby('LedgerIndex')['TransactionType'].value_counts()"
   ]
  },
  {
   "cell_type": "code",
   "execution_count": 71,
   "metadata": {},
   "outputs": [],
   "source": [
    "def txn_type_count_by_ledger(data):\n",
    "    return data | px.groupby('LedgerIndex') | px['TransactionType'] | px.value_counts() "
   ]
  },
  {
   "cell_type": "code",
   "execution_count": 75,
   "metadata": {
    "scrolled": false
   },
   "outputs": [
    {
     "ename": "SyntaxError",
     "evalue": "unexpected EOF while parsing (<ipython-input-75-0267988d7dd4>, line 1)",
     "output_type": "error",
     "traceback": [
      "\u001b[0;36m  File \u001b[0;32m\"<ipython-input-75-0267988d7dd4>\"\u001b[0;36m, line \u001b[0;32m1\u001b[0m\n\u001b[0;31m    txn_type_count_by_ledger(xrp3).groupby('LedgerIndex'\u001b[0m\n\u001b[0m                                                        ^\u001b[0m\n\u001b[0;31mSyntaxError\u001b[0m\u001b[0;31m:\u001b[0m unexpected EOF while parsing\n"
     ]
    }
   ],
   "source": [
    "txn_type_count_by_ledger(xrp3).groupby('LedgerIndex')"
   ]
  },
  {
   "cell_type": "code",
   "execution_count": 76,
   "metadata": {
    "scrolled": true
   },
   "outputs": [
    {
     "ename": "NameError",
     "evalue": "name 'traverse' is not defined",
     "output_type": "error",
     "traceback": [
      "\u001b[0;31m---------------------------------------------------------------------------\u001b[0m",
      "\u001b[0;31mNameError\u001b[0m                                 Traceback (most recent call last)",
      "\u001b[0;32m<ipython-input-76-f52720551541>\u001b[0m in \u001b[0;36m<module>\u001b[0;34m\u001b[0m\n\u001b[0;32m----> 1\u001b[0;31m \u001b[0msum\u001b[0m\u001b[0;34m(\u001b[0m\u001b[0;34m[\u001b[0m\u001b[0;36m1\u001b[0m\u001b[0;34m,\u001b[0m \u001b[0;36m4\u001b[0m\u001b[0;34m,\u001b[0m \u001b[0;36m3\u001b[0m\u001b[0;34m]\u001b[0m \u001b[0;34m|\u001b[0m \u001b[0mtraverse\u001b[0m\u001b[0;34m)\u001b[0m\u001b[0;34m\u001b[0m\u001b[0m\n\u001b[0m",
      "\u001b[0;31mNameError\u001b[0m: name 'traverse' is not defined"
     ]
    }
   ],
   "source": [
    "sum([1, 4, 3] | traverse)"
   ]
  },
  {
   "cell_type": "code",
   "execution_count": null,
   "metadata": {},
   "outputs": [],
   "source": [
    "def txn_type_percentages_by_ledger(data):\n",
    "    return data | px.groupby('LedgerIndex') | px['TransactionType'] | px.value_counts() | 100*px/"
   ]
  },
  {
   "cell_type": "code",
   "execution_count": 79,
   "metadata": {},
   "outputs": [
    {
     "data": {
      "text/plain": [
       "LedgerIndex\n",
       "52058308    OfferCreateOfferCreateOfferCreatePaymentOfferC...\n",
       "52058309    OfferCreatePaymentOfferCreatePaymentPaymentOff...\n",
       "52058310    PaymentPaymentPaymentPaymentOfferCreatePayment...\n",
       "52058311    OfferCreateOfferCreateOfferCreatePaymentPaymen...\n",
       "52058312    OfferCreateOfferCreateOfferCreatePaymentPaymen...\n",
       "                                  ...                        \n",
       "52058487    OfferCreatePaymentPaymentOfferCreateOfferCreat...\n",
       "52058488    OfferCreateOfferCreateOfferCancelOfferCreateOf...\n",
       "52058489    OfferCancelOfferCancelOfferCreateOfferCreateOf...\n",
       "52058490    OfferCreateOfferCreateOfferCreateOfferCreateOf...\n",
       "52058491    OfferCreateOfferCreateOfferCreateOfferCreateOf...\n",
       "Name: TransactionType, Length: 184, dtype: object"
      ]
     },
     "execution_count": 79,
     "metadata": {},
     "output_type": "execute_result"
    }
   ],
   "source": [
    "xrp3.groupby('LedgerIndex')"
   ]
  },
  {
   "cell_type": "code",
   "execution_count": null,
   "metadata": {},
   "outputs": [],
   "source": []
  }
 ],
 "metadata": {
  "kernelspec": {
   "display_name": "Python 3",
   "language": "python",
   "name": "python3"
  },
  "language_info": {
   "codemirror_mode": {
    "name": "ipython",
    "version": 3
   },
   "file_extension": ".py",
   "mimetype": "text/x-python",
   "name": "python",
   "nbconvert_exporter": "python",
   "pygments_lexer": "ipython3",
   "version": "3.5.3"
  }
 },
 "nbformat": 4,
 "nbformat_minor": 2
}
